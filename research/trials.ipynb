{
 "cells": [
  {
   "cell_type": "code",
   "execution_count": 1,
   "metadata": {},
   "outputs": [
    {
     "name": "stdout",
     "output_type": "stream",
     "text": [
      "ok\n"
     ]
    }
   ],
   "source": [
    "print(\"ok\")\n"
   ]
  },
  {
   "cell_type": "code",
   "execution_count": 2,
   "metadata": {},
   "outputs": [
    {
     "data": {
      "text/plain": [
       "'c:\\\\projects\\\\medibot\\\\Elarova\\\\research'"
      ]
     },
     "execution_count": 2,
     "metadata": {},
     "output_type": "execute_result"
    }
   ],
   "source": [
    "%pwd"
   ]
  },
  {
   "cell_type": "code",
   "execution_count": 3,
   "metadata": {},
   "outputs": [],
   "source": [
    "import os\n",
    "os.chdir(\"../\")"
   ]
  },
  {
   "cell_type": "code",
   "execution_count": 4,
   "metadata": {},
   "outputs": [
    {
     "data": {
      "text/plain": [
       "'c:\\\\projects\\\\medibot\\\\Elarova'"
      ]
     },
     "execution_count": 4,
     "metadata": {},
     "output_type": "execute_result"
    }
   ],
   "source": [
    "%pwd"
   ]
  },
  {
   "cell_type": "code",
   "execution_count": 5,
   "metadata": {},
   "outputs": [],
   "source": [
    "from langchain.document_loaders import PyPDFLoader, DirectoryLoader\n",
    "from langchain.text_splitter import RecursiveCharacterTextSplitter\n"
   ]
  },
  {
   "cell_type": "code",
   "execution_count": 6,
   "metadata": {},
   "outputs": [],
   "source": [
    "from langchain.document_loaders import PyPDFLoader, DirectoryLoader\n",
    "from langchain.text_splitter import RecursiveCharacterTextSplitter\n"
   ]
  },
  {
   "cell_type": "code",
   "execution_count": 7,
   "metadata": {},
   "outputs": [
    {
     "name": "stdout",
     "output_type": "stream",
     "text": [
      "e:\\anaconda\\envs\\elarova\\python.exe\n"
     ]
    }
   ],
   "source": [
    "import sys\n",
    "print(sys.executable)\n",
    "\n"
   ]
  },
  {
   "cell_type": "code",
   "execution_count": 8,
   "metadata": {},
   "outputs": [
    {
     "name": "stdout",
     "output_type": "stream",
     "text": [
      "Requirement already satisfied: langchain in e:\\anaconda\\envs\\elarova\\lib\\site-packages (0.3.20)\n",
      "Requirement already satisfied: langchain-core<1.0.0,>=0.3.41 in e:\\anaconda\\envs\\elarova\\lib\\site-packages (from langchain) (0.3.44)\n",
      "Requirement already satisfied: langchain-text-splitters<1.0.0,>=0.3.6 in e:\\anaconda\\envs\\elarova\\lib\\site-packages (from langchain) (0.3.6)\n",
      "Requirement already satisfied: langsmith<0.4,>=0.1.17 in e:\\anaconda\\envs\\elarova\\lib\\site-packages (from langchain) (0.3.13)\n",
      "Requirement already satisfied: pydantic<3.0.0,>=2.7.4 in e:\\anaconda\\envs\\elarova\\lib\\site-packages (from langchain) (2.10.6)\n",
      "Requirement already satisfied: SQLAlchemy<3,>=1.4 in e:\\anaconda\\envs\\elarova\\lib\\site-packages (from langchain) (2.0.39)\n",
      "Requirement already satisfied: requests<3,>=2 in e:\\anaconda\\envs\\elarova\\lib\\site-packages (from langchain) (2.32.3)\n",
      "Requirement already satisfied: PyYAML>=5.3 in e:\\anaconda\\envs\\elarova\\lib\\site-packages (from langchain) (6.0.2)\n",
      "Requirement already satisfied: async-timeout<5.0.0,>=4.0.0 in e:\\anaconda\\envs\\elarova\\lib\\site-packages (from langchain) (4.0.3)\n",
      "Requirement already satisfied: tenacity!=8.4.0,<10.0.0,>=8.1.0 in e:\\anaconda\\envs\\elarova\\lib\\site-packages (from langchain-core<1.0.0,>=0.3.41->langchain) (9.0.0)\n",
      "Requirement already satisfied: jsonpatch<2.0,>=1.33 in e:\\anaconda\\envs\\elarova\\lib\\site-packages (from langchain-core<1.0.0,>=0.3.41->langchain) (1.33)\n",
      "Requirement already satisfied: packaging<25,>=23.2 in e:\\anaconda\\envs\\elarova\\lib\\site-packages (from langchain-core<1.0.0,>=0.3.41->langchain) (24.2)\n",
      "Requirement already satisfied: typing-extensions>=4.7 in e:\\anaconda\\envs\\elarova\\lib\\site-packages (from langchain-core<1.0.0,>=0.3.41->langchain) (4.12.2)\n",
      "Requirement already satisfied: httpx<1,>=0.23.0 in e:\\anaconda\\envs\\elarova\\lib\\site-packages (from langsmith<0.4,>=0.1.17->langchain) (0.28.1)\n",
      "Requirement already satisfied: orjson<4.0.0,>=3.9.14 in e:\\anaconda\\envs\\elarova\\lib\\site-packages (from langsmith<0.4,>=0.1.17->langchain) (3.10.15)\n",
      "Requirement already satisfied: requests-toolbelt<2.0.0,>=1.0.0 in e:\\anaconda\\envs\\elarova\\lib\\site-packages (from langsmith<0.4,>=0.1.17->langchain) (1.0.0)\n",
      "Requirement already satisfied: zstandard<0.24.0,>=0.23.0 in e:\\anaconda\\envs\\elarova\\lib\\site-packages (from langsmith<0.4,>=0.1.17->langchain) (0.23.0)\n",
      "Requirement already satisfied: annotated-types>=0.6.0 in e:\\anaconda\\envs\\elarova\\lib\\site-packages (from pydantic<3.0.0,>=2.7.4->langchain) (0.7.0)\n",
      "Requirement already satisfied: pydantic-core==2.27.2 in e:\\anaconda\\envs\\elarova\\lib\\site-packages (from pydantic<3.0.0,>=2.7.4->langchain) (2.27.2)\n",
      "Requirement already satisfied: charset-normalizer<4,>=2 in e:\\anaconda\\envs\\elarova\\lib\\site-packages (from requests<3,>=2->langchain) (3.4.1)\n",
      "Requirement already satisfied: idna<4,>=2.5 in e:\\anaconda\\envs\\elarova\\lib\\site-packages (from requests<3,>=2->langchain) (3.10)\n",
      "Requirement already satisfied: urllib3<3,>=1.21.1 in e:\\anaconda\\envs\\elarova\\lib\\site-packages (from requests<3,>=2->langchain) (2.3.0)\n",
      "Requirement already satisfied: certifi>=2017.4.17 in e:\\anaconda\\envs\\elarova\\lib\\site-packages (from requests<3,>=2->langchain) (2025.1.31)\n",
      "Requirement already satisfied: greenlet!=0.4.17 in e:\\anaconda\\envs\\elarova\\lib\\site-packages (from SQLAlchemy<3,>=1.4->langchain) (3.1.1)\n",
      "Requirement already satisfied: anyio in e:\\anaconda\\envs\\elarova\\lib\\site-packages (from httpx<1,>=0.23.0->langsmith<0.4,>=0.1.17->langchain) (4.8.0)\n",
      "Requirement already satisfied: httpcore==1.* in e:\\anaconda\\envs\\elarova\\lib\\site-packages (from httpx<1,>=0.23.0->langsmith<0.4,>=0.1.17->langchain) (1.0.7)\n",
      "Requirement already satisfied: h11<0.15,>=0.13 in e:\\anaconda\\envs\\elarova\\lib\\site-packages (from httpcore==1.*->httpx<1,>=0.23.0->langsmith<0.4,>=0.1.17->langchain) (0.14.0)\n",
      "Requirement already satisfied: jsonpointer>=1.9 in e:\\anaconda\\envs\\elarova\\lib\\site-packages (from jsonpatch<2.0,>=1.33->langchain-core<1.0.0,>=0.3.41->langchain) (3.0.0)\n",
      "Requirement already satisfied: exceptiongroup>=1.0.2 in e:\\anaconda\\envs\\elarova\\lib\\site-packages (from anyio->httpx<1,>=0.23.0->langsmith<0.4,>=0.1.17->langchain) (1.2.2)\n",
      "Requirement already satisfied: sniffio>=1.1 in e:\\anaconda\\envs\\elarova\\lib\\site-packages (from anyio->httpx<1,>=0.23.0->langsmith<0.4,>=0.1.17->langchain) (1.3.1)\n"
     ]
    }
   ],
   "source": [
    "import sys\n",
    "!{sys.executable} -m pip install langchain\n"
   ]
  },
  {
   "cell_type": "code",
   "execution_count": 9,
   "metadata": {},
   "outputs": [],
   "source": [
    "from langchain.document_loaders import PyPDFLoader, DirectoryLoader\n",
    "from langchain.text_splitter import RecursiveCharacterTextSplitter"
   ]
  },
  {
   "cell_type": "code",
   "execution_count": 10,
   "metadata": {},
   "outputs": [],
   "source": [
    "from langchain.document_loaders import PyPDFLoader, DirectoryLoader\n",
    "from langchain.text_splitter import RecursiveCharacterTextSplitter"
   ]
  },
  {
   "cell_type": "code",
   "execution_count": null,
   "metadata": {},
   "outputs": [],
   "source": []
  },
  {
   "cell_type": "code",
   "execution_count": 11,
   "metadata": {},
   "outputs": [],
   "source": [
    "from langchain.document_loaders import PyPDFLoader, DirectoryLoader\n",
    "from langchain.text_splitter import RecursiveCharacterTextSplitter"
   ]
  },
  {
   "cell_type": "code",
   "execution_count": 12,
   "metadata": {},
   "outputs": [],
   "source": [
    "#Ectract Data Form The PDF FILE \n",
    "def load_pdf_file(data):\n",
    "    loader= DirectoryLoader (data,\n",
    "                             glob=\"*.pdf\",\n",
    "                             loader_cls=PyPDFLoader)\n",
    "    \n",
    "    documents=loader.load()\n",
    "    \n",
    "    return documents"
   ]
  },
  {
   "cell_type": "code",
   "execution_count": 13,
   "metadata": {},
   "outputs": [
    {
     "name": "stdout",
     "output_type": "stream",
     "text": [
      "True\n"
     ]
    }
   ],
   "source": [
    "import os\n",
    "print(os.path.exists(\"Data/Medical_book.pdf\"))  # Should print True\n"
   ]
  },
  {
   "cell_type": "code",
   "execution_count": 14,
   "metadata": {},
   "outputs": [
    {
     "name": "stdout",
     "output_type": "stream",
     "text": [
      "True\n"
     ]
    }
   ],
   "source": [
    "import os\n",
    "print(os.path.exists(\"Data/Medical_book.pdf\"))  # Should print True if the file exists\n"
   ]
  },
  {
   "cell_type": "code",
   "execution_count": 15,
   "metadata": {},
   "outputs": [
    {
     "name": "stdout",
     "output_type": "stream",
     "text": [
      "GALE\n",
      "The\n",
      "ENCYCLOPEDIA\n",
      "M\n",
      "EDICINE\n",
      "of\n",
      "SECOND EDITION\n",
      "G ALE\n",
      "The\n",
      "ENCYCLOPEDIA\n",
      "M\n",
      "EDICINE\n",
      "of\n",
      "SECOND EDITION\n",
      "V O L U M E\n",
      "2\n",
      "C-F\n",
      "JACQUELINE L. LONGE, EDITOR\n",
      "DEIRDRE S. BLANCHFIELD, ASSOCIATE EDITOR\n",
      "GALE\n",
      "The Since this page cannot legibly accommodate all copyright notices,the\n",
      "acknowledgments constitute an extension of the copyright notice.\n",
      "ENCYCLOPEDIA\n",
      "While every effort has been made to ensure the reliability of the infor-\n",
      "MEDICINE mation presented in this publication,the Gale Group neither guarantees\n",
      "of\n",
      "the accuracy of the data contained herein nor assumes any responsibili-\n",
      "SECOND EDITION ty for errors,omissions or discrepancies. The Gale Group accepts no\n",
      "payment for listing,and inclusion in the publication of any organiza-\n",
      "tion,agency,institution,publication,service,or individual does not\n",
      "imply endorsement of the editor or publisher. Errors brought to the\n",
      "attention of the publisher and verified to the satisfaction of the publish-\n",
      "STAFF\n",
      "er will be corrected in future editions.\n",
      "Jacqueline L. Lon\n"
     ]
    }
   ],
   "source": [
    "import os\n",
    "import pdfplumber\n",
    "\n",
    "def load_pdf_with_pdfplumber(pdf_path):\n",
    "    if not os.path.isfile(pdf_path):\n",
    "        raise ValueError(f\"File '{pdf_path}' does not exist.\")\n",
    "\n",
    "    text = \"\"\n",
    "    with pdfplumber.open(pdf_path) as pdf:\n",
    "        for page in pdf.pages:\n",
    "            text += page.extract_text() + \"\\n\"\n",
    "    \n",
    "    return text\n",
    "\n",
    "# Example usage\n",
    "text_data = load_pdf_with_pdfplumber(\"Data/Medical_book.pdf\")\n",
    "print(text_data[:1000])  # Print first 1000 characters\n"
   ]
  },
  {
   "cell_type": "code",
   "execution_count": 16,
   "metadata": {},
   "outputs": [
    {
     "name": "stdout",
     "output_type": "stream",
     "text": [
      "GALE\n",
      "The\n",
      "ENCYCLOPEDIA\n",
      "M\n",
      "EDICINE\n",
      "of\n",
      "SECOND EDITIONG ALE\n",
      "The\n",
      "ENCYCLOPEDIA\n",
      "M\n",
      "EDICINE\n",
      "of\n",
      "SECOND EDITION\n",
      "V O L U M E\n",
      "2\n",
      "C-F\n",
      "JACQUELINE L. LONGE, EDITOR\n",
      "DEIRDRE S. BLANCHFIELD, ASSOCIATE EDITORGALE\n",
      "The Since this page cannot legibly accommodate all copyright notices,the\n",
      "acknowledgments constitute an extension of the copyright notice.\n",
      "ENCYCLOPEDIA\n",
      "While every effort has been made to ensure the reliability of the infor-\n",
      "MEDICINE mation presented in this publication,the Gale Group neither guarantees\n",
      "of\n",
      "the accuracy of the data contained herein nor assumes any responsibili-\n",
      "SECOND EDITION ty for errors,omissions or discrepancies. The Gale Group accepts no\n",
      "payment for listing,and inclusion in the publication of any organiza-\n",
      "tion,agency,institution,publication,service,or individual does not\n",
      "imply endorsement of the editor or publisher. Errors brought to the\n",
      "attention of the publisher and verified to the satisfaction of the publish-\n",
      "STAFF\n",
      "er will be corrected in future editions.\n",
      "Jacqueline L. Longe\n"
     ]
    }
   ],
   "source": [
    "import pdfplumber\n",
    "\n",
    "def extract_text_with_pdfplumber(pdf_path):\n",
    "    with pdfplumber.open(pdf_path) as pdf:\n",
    "        text = \"\"\n",
    "        for page in pdf.pages:\n",
    "            text += page.extract_text()\n",
    "    return text\n",
    "\n",
    "# Example usage\n",
    "pdf_text = extract_text_with_pdfplumber(\"Data/Medical_book.pdf\")\n",
    "print(pdf_text[:1000])  # Print first 1000 characters of extracted text\n"
   ]
  },
  {
   "cell_type": "code",
   "execution_count": 27,
   "metadata": {},
   "outputs": [],
   "source": [
    "#extracted_data=load_pdf_file(data='Data/')"
   ]
  },
  {
   "cell_type": "code",
   "execution_count": 30,
   "metadata": {},
   "outputs": [
    {
     "name": "stdout",
     "output_type": "stream",
     "text": [
      "c:\\projects\n"
     ]
    }
   ],
   "source": [
    "import os\n",
    "print(os.getcwd())  # Prints the current working directory\n"
   ]
  },
  {
   "cell_type": "code",
   "execution_count": 40,
   "metadata": {},
   "outputs": [
    {
     "name": "stdout",
     "output_type": "stream",
     "text": [
      "Current Working Directory: c:\\projects\n",
      "✅ The folder 'medibot/elarova/data/' exists.\n"
     ]
    }
   ],
   "source": [
    "import os\n",
    "\n",
    "# Check current working directory\n",
    "print(\"Current Working Directory:\", os.getcwd())\n",
    "\n",
    "# Check if the 'data' folder exists\n",
    "folder_path = \"medibot/elarova/data/\"\n",
    "if os.path.exists(folder_path):\n",
    "    print(f\"✅ The folder '{folder_path}' exists.\")\n",
    "else:\n",
    "    print(f\"❌ The folder '{folder_path}' does NOT exist. Please check the path.\")\n"
   ]
  },
  {
   "cell_type": "code",
   "execution_count": 42,
   "metadata": {},
   "outputs": [
    {
     "name": "stdout",
     "output_type": "stream",
     "text": [
      "Loading: medibot/elarova/data/Medical_book.pdf\n",
      "Error loading Medical_book.pdf: Unexpected end of stream\n",
      "Total pages loaded: 0\n"
     ]
    }
   ],
   "source": [
    "# Now call the function with the path\n",
    "extracted_data = load_pdf_files(\"medibot/elarova/data/\")\n",
    "\n",
    "# Debugging output\n",
    "print(f\"Total pages loaded: {len(extracted_data)}\")\n"
   ]
  },
  {
   "cell_type": "code",
   "execution_count": 44,
   "metadata": {},
   "outputs": [
    {
     "name": "stdout",
     "output_type": "stream",
     "text": [
      "Collecting PyPDF2\n",
      "  Downloading pypdf2-3.0.1-py3-none-any.whl.metadata (6.8 kB)\n",
      "Downloading pypdf2-3.0.1-py3-none-any.whl (232 kB)\n",
      "Installing collected packages: PyPDF2\n",
      "Successfully installed PyPDF2-3.0.1\n",
      "Note: you may need to restart the kernel to use updated packages.\n"
     ]
    }
   ],
   "source": [
    "pip install PyPDF2\n"
   ]
  },
  {
   "cell_type": "code",
   "execution_count": 47,
   "metadata": {},
   "outputs": [
    {
     "name": "stdout",
     "output_type": "stream",
     "text": [
      "Current Directory: c:\\projects\n"
     ]
    }
   ],
   "source": [
    "import os\n",
    "print(\"Current Directory:\", os.getcwd())\n"
   ]
  },
  {
   "cell_type": "code",
   "execution_count": 51,
   "metadata": {},
   "outputs": [
    {
     "name": "stdout",
     "output_type": "stream",
     "text": [
      "Loading: C:/projects/medibot/elarova/Data/Medical_book.pdf\n",
      "Error loading Medical_book.pdf: Unexpected end of stream\n"
     ]
    }
   ],
   "source": [
    "extracted_data = load_pdf_files(\"C:/projects/medibot/elarova/Data/\")\n"
   ]
  },
  {
   "cell_type": "code",
   "execution_count": 59,
   "metadata": {},
   "outputs": [
    {
     "name": "stdout",
     "output_type": "stream",
     "text": [
      "Error loading C:/projects/medibot/elarova/Data/Medical_book.pdf: Unexpected end of stream\n",
      "Total pages loaded: 0\n"
     ]
    }
   ],
   "source": [
    "from langchain_community.document_loaders import PyPDFLoader\n",
    "\n",
    "def load_single_pdf(pdf_path):\n",
    "    try:\n",
    "        # Load the PDF file using PyPDFLoader\n",
    "        loader = PyPDFLoader(pdf_path)\n",
    "        pdf_documents = loader.load()\n",
    "        return pdf_documents\n",
    "    except Exception as e:\n",
    "        print(f\"Error loading {pdf_path}: {e}\")\n",
    "        return []\n",
    "\n",
    "# Example usage with the single PDF file\n",
    "pdf_path = \"C:/projects/medibot/elarova/Data/Medical_book.pdf\"\n",
    "extracted_data = load_single_pdf(pdf_path)\n",
    "\n",
    "# Debugging output\n",
    "print(f\"Total pages loaded: {len(extracted_data)}\")\n"
   ]
  },
  {
   "cell_type": "code",
   "execution_count": 60,
   "metadata": {},
   "outputs": [
    {
     "ename": "ValueError",
     "evalue": "Directory 'Data/' does not exist.",
     "output_type": "error",
     "traceback": [
      "\u001b[1;31m---------------------------------------------------------------------------\u001b[0m",
      "\u001b[1;31mValueError\u001b[0m                                Traceback (most recent call last)",
      "Cell \u001b[1;32mIn[60], line 28\u001b[0m\n\u001b[0;32m     25\u001b[0m     \u001b[38;5;28;01mreturn\u001b[39;00m documents\n\u001b[0;32m     27\u001b[0m \u001b[38;5;66;03m# Example usage\u001b[39;00m\n\u001b[1;32m---> 28\u001b[0m extracted_data \u001b[38;5;241m=\u001b[39m \u001b[43mload_pdf_files\u001b[49m\u001b[43m(\u001b[49m\u001b[38;5;124;43m\"\u001b[39;49m\u001b[38;5;124;43mData/\u001b[39;49m\u001b[38;5;124;43m\"\u001b[39;49m\u001b[43m)\u001b[49m\n\u001b[0;32m     30\u001b[0m \u001b[38;5;66;03m# Debugging output\u001b[39;00m\n\u001b[0;32m     31\u001b[0m \u001b[38;5;28mprint\u001b[39m(\u001b[38;5;124mf\u001b[39m\u001b[38;5;124m\"\u001b[39m\u001b[38;5;124mTotal pages loaded: \u001b[39m\u001b[38;5;132;01m{\u001b[39;00m\u001b[38;5;28mlen\u001b[39m(extracted_data)\u001b[38;5;132;01m}\u001b[39;00m\u001b[38;5;124m\"\u001b[39m)\n",
      "Cell \u001b[1;32mIn[60], line 9\u001b[0m, in \u001b[0;36mload_pdf_files\u001b[1;34m(directory)\u001b[0m\n\u001b[0;32m      7\u001b[0m \u001b[38;5;66;03m# Check if the directory exists\u001b[39;00m\n\u001b[0;32m      8\u001b[0m \u001b[38;5;28;01mif\u001b[39;00m \u001b[38;5;129;01mnot\u001b[39;00m os\u001b[38;5;241m.\u001b[39mpath\u001b[38;5;241m.\u001b[39misdir(directory):\n\u001b[1;32m----> 9\u001b[0m     \u001b[38;5;28;01mraise\u001b[39;00m \u001b[38;5;167;01mValueError\u001b[39;00m(\u001b[38;5;124mf\u001b[39m\u001b[38;5;124m\"\u001b[39m\u001b[38;5;124mDirectory \u001b[39m\u001b[38;5;124m'\u001b[39m\u001b[38;5;132;01m{\u001b[39;00mdirectory\u001b[38;5;132;01m}\u001b[39;00m\u001b[38;5;124m'\u001b[39m\u001b[38;5;124m does not exist.\u001b[39m\u001b[38;5;124m\"\u001b[39m)\n\u001b[0;32m     11\u001b[0m \u001b[38;5;66;03m# Iterate through all files in the directory\u001b[39;00m\n\u001b[0;32m     12\u001b[0m \u001b[38;5;28;01mfor\u001b[39;00m filename \u001b[38;5;129;01min\u001b[39;00m os\u001b[38;5;241m.\u001b[39mlistdir(directory):\n",
      "\u001b[1;31mValueError\u001b[0m: Directory 'Data/' does not exist."
     ]
    }
   ],
   "source": [
    "import os\n",
    "from langchain_community.document_loaders import PyPDFLoader\n",
    "\n",
    "def load_pdf_files(directory):\n",
    "    documents = []\n",
    "\n",
    "    # Check if the directory exists\n",
    "    if not os.path.isdir(directory):\n",
    "        raise ValueError(f\"Directory '{directory}' does not exist.\")\n",
    "\n",
    "    # Iterate through all files in the directory\n",
    "    for filename in os.listdir(directory):\n",
    "        if filename.endswith(\".pdf\"):\n",
    "            pdf_path = os.path.join(directory, filename)  # Create full file path\n",
    "            print(f\"Loading: {pdf_path}\")  # Debugging output\n",
    "            \n",
    "            try:\n",
    "                # Load the PDF file using PyPDFLoader\n",
    "                loader = PyPDFLoader(pdf_path)\n",
    "                pdf_documents = loader.load()\n",
    "                documents.extend(pdf_documents)\n",
    "            except Exception as e:\n",
    "                print(f\"Error loading {filename}: {e}\")\n",
    "    \n",
    "    return documents\n",
    "\n",
    "# Example usage\n",
    "extracted_data = load_pdf_files(\"Data/\")\n",
    "\n",
    "# Debugging output\n",
    "print(f\"Total pages loaded: {len(extracted_data)}\")\n"
   ]
  },
  {
   "cell_type": "code",
   "execution_count": null,
   "metadata": {},
   "outputs": [
    {
     "name": "stdout",
     "output_type": "stream",
     "text": [
      "c:\\projects\\medibot\\Elarova\n"
     ]
    }
   ],
   "source": [
    "import os\n",
    "print(os.getcwd())\n"
   ]
  },
  {
   "cell_type": "code",
   "execution_count": null,
   "metadata": {},
   "outputs": [],
   "source": [
    "import os\n",
    "os.chdir(\"../\")"
   ]
  },
  {
   "cell_type": "code",
   "execution_count": null,
   "metadata": {},
   "outputs": [
    {
     "data": {
      "text/plain": [
       "'c:\\\\projects'"
      ]
     },
     "execution_count": 24,
     "metadata": {},
     "output_type": "execute_result"
    }
   ],
   "source": [
    "%pwd"
   ]
  },
  {
   "cell_type": "code",
   "execution_count": null,
   "metadata": {},
   "outputs": [
    {
     "ename": "FileNotFoundError",
     "evalue": "Directory not found: 'Data/'",
     "output_type": "error",
     "traceback": [
      "\u001b[1;31m---------------------------------------------------------------------------\u001b[0m",
      "\u001b[1;31mFileNotFoundError\u001b[0m                         Traceback (most recent call last)",
      "Cell \u001b[1;32mIn[26], line 1\u001b[0m\n\u001b[1;32m----> 1\u001b[0m extracted_data \u001b[38;5;241m=\u001b[39m \u001b[43mload_pdf_file\u001b[49m\u001b[43m(\u001b[49m\u001b[43mdata\u001b[49m\u001b[38;5;241;43m=\u001b[39;49m\u001b[38;5;124;43m'\u001b[39;49m\u001b[38;5;124;43mData/\u001b[39;49m\u001b[38;5;124;43m'\u001b[39;49m\u001b[43m)\u001b[49m\n",
      "Cell \u001b[1;32mIn[12], line 7\u001b[0m, in \u001b[0;36mload_pdf_file\u001b[1;34m(data)\u001b[0m\n\u001b[0;32m      2\u001b[0m \u001b[38;5;28;01mdef\u001b[39;00m\u001b[38;5;250m \u001b[39m\u001b[38;5;21mload_pdf_file\u001b[39m(data):\n\u001b[0;32m      3\u001b[0m     loader\u001b[38;5;241m=\u001b[39m DirectoryLoader (data,\n\u001b[0;32m      4\u001b[0m                              glob\u001b[38;5;241m=\u001b[39m\u001b[38;5;124m\"\u001b[39m\u001b[38;5;124m*.pdf\u001b[39m\u001b[38;5;124m\"\u001b[39m,\n\u001b[0;32m      5\u001b[0m                              loader_cls\u001b[38;5;241m=\u001b[39mPyPDFLoader)\n\u001b[1;32m----> 7\u001b[0m     documents\u001b[38;5;241m=\u001b[39m\u001b[43mloader\u001b[49m\u001b[38;5;241;43m.\u001b[39;49m\u001b[43mload\u001b[49m\u001b[43m(\u001b[49m\u001b[43m)\u001b[49m\n\u001b[0;32m      9\u001b[0m     \u001b[38;5;28;01mreturn\u001b[39;00m documents\n",
      "File \u001b[1;32me:\\anaconda\\envs\\elarova\\lib\\site-packages\\langchain_community\\document_loaders\\directory.py:117\u001b[0m, in \u001b[0;36mDirectoryLoader.load\u001b[1;34m(self)\u001b[0m\n\u001b[0;32m    115\u001b[0m \u001b[38;5;28;01mdef\u001b[39;00m\u001b[38;5;250m \u001b[39m\u001b[38;5;21mload\u001b[39m(\u001b[38;5;28mself\u001b[39m) \u001b[38;5;241m-\u001b[39m\u001b[38;5;241m>\u001b[39m List[Document]:\n\u001b[0;32m    116\u001b[0m \u001b[38;5;250m    \u001b[39m\u001b[38;5;124;03m\"\"\"Load documents.\"\"\"\u001b[39;00m\n\u001b[1;32m--> 117\u001b[0m     \u001b[38;5;28;01mreturn\u001b[39;00m \u001b[38;5;28;43mlist\u001b[39;49m\u001b[43m(\u001b[49m\u001b[38;5;28;43mself\u001b[39;49m\u001b[38;5;241;43m.\u001b[39;49m\u001b[43mlazy_load\u001b[49m\u001b[43m(\u001b[49m\u001b[43m)\u001b[49m\u001b[43m)\u001b[49m\n",
      "File \u001b[1;32me:\\anaconda\\envs\\elarova\\lib\\site-packages\\langchain_community\\document_loaders\\directory.py:123\u001b[0m, in \u001b[0;36mDirectoryLoader.lazy_load\u001b[1;34m(self)\u001b[0m\n\u001b[0;32m    121\u001b[0m p \u001b[38;5;241m=\u001b[39m Path(\u001b[38;5;28mself\u001b[39m\u001b[38;5;241m.\u001b[39mpath)\n\u001b[0;32m    122\u001b[0m \u001b[38;5;28;01mif\u001b[39;00m \u001b[38;5;129;01mnot\u001b[39;00m p\u001b[38;5;241m.\u001b[39mexists():\n\u001b[1;32m--> 123\u001b[0m     \u001b[38;5;28;01mraise\u001b[39;00m \u001b[38;5;167;01mFileNotFoundError\u001b[39;00m(\u001b[38;5;124mf\u001b[39m\u001b[38;5;124m\"\u001b[39m\u001b[38;5;124mDirectory not found: \u001b[39m\u001b[38;5;124m'\u001b[39m\u001b[38;5;132;01m{\u001b[39;00m\u001b[38;5;28mself\u001b[39m\u001b[38;5;241m.\u001b[39mpath\u001b[38;5;132;01m}\u001b[39;00m\u001b[38;5;124m'\u001b[39m\u001b[38;5;124m\"\u001b[39m)\n\u001b[0;32m    124\u001b[0m \u001b[38;5;28;01mif\u001b[39;00m \u001b[38;5;129;01mnot\u001b[39;00m p\u001b[38;5;241m.\u001b[39mis_dir():\n\u001b[0;32m    125\u001b[0m     \u001b[38;5;28;01mraise\u001b[39;00m \u001b[38;5;167;01mValueError\u001b[39;00m(\u001b[38;5;124mf\u001b[39m\u001b[38;5;124m\"\u001b[39m\u001b[38;5;124mExpected directory, got file: \u001b[39m\u001b[38;5;124m'\u001b[39m\u001b[38;5;132;01m{\u001b[39;00m\u001b[38;5;28mself\u001b[39m\u001b[38;5;241m.\u001b[39mpath\u001b[38;5;132;01m}\u001b[39;00m\u001b[38;5;124m'\u001b[39m\u001b[38;5;124m\"\u001b[39m)\n",
      "\u001b[1;31mFileNotFoundError\u001b[0m: Directory not found: 'Data/'"
     ]
    }
   ],
   "source": [
    "extracted_data = load_pdf_file(data='Data/')"
   ]
  },
  {
   "cell_type": "code",
   "execution_count": null,
   "metadata": {},
   "outputs": [
    {
     "name": "stdout",
     "output_type": "stream",
     "text": [
      "Collecting pypdf\n",
      "  Using cached pypdf-5.3.1-py3-none-any.whl.metadata (7.3 kB)\n",
      "Requirement already satisfied: typing_extensions>=4.0 in e:\\anaconda\\envs\\elarova\\lib\\site-packages (from pypdf) (4.12.2)\n",
      "Using cached pypdf-5.3.1-py3-none-any.whl (302 kB)\n",
      "Installing collected packages: pypdf\n",
      "Successfully installed pypdf-5.3.1\n",
      "Note: you may need to restart the kernel to use updated packages.\n"
     ]
    }
   ],
   "source": [
    "pip install pypdf\n"
   ]
  },
  {
   "cell_type": "code",
   "execution_count": null,
   "metadata": {},
   "outputs": [
    {
     "ename": "NameError",
     "evalue": "name 'load_pdf_file' is not defined",
     "output_type": "error",
     "traceback": [
      "\u001b[1;31m---------------------------------------------------------------------------\u001b[0m",
      "\u001b[1;31mNameError\u001b[0m                                 Traceback (most recent call last)",
      "Cell \u001b[1;32mIn[55], line 1\u001b[0m\n\u001b[1;32m----> 1\u001b[0m extracted_data \u001b[38;5;241m=\u001b[39m \u001b[43mload_pdf_file\u001b[49m(data\u001b[38;5;241m=\u001b[39m\u001b[38;5;124m'\u001b[39m\u001b[38;5;124mData/\u001b[39m\u001b[38;5;124m'\u001b[39m)\n",
      "\u001b[1;31mNameError\u001b[0m: name 'load_pdf_file' is not defined"
     ]
    }
   ],
   "source": [
    "extracted_data = load_pdf_file(data='Data/')"
   ]
  },
  {
   "cell_type": "code",
   "execution_count": null,
   "metadata": {},
   "outputs": [
    {
     "name": "stdout",
     "output_type": "stream",
     "text": [
      "Collecting pymupdf\n",
      "  Downloading pymupdf-1.25.3-cp39-abi3-win_amd64.whl.metadata (3.4 kB)\n",
      "Downloading pymupdf-1.25.3-cp39-abi3-win_amd64.whl (16.5 MB)\n",
      "   ---------------------------------------- 0.0/16.5 MB ? eta -:--:--\n",
      "   - -------------------------------------- 0.5/16.5 MB 5.6 MB/s eta 0:00:03\n",
      "   -- ------------------------------------- 1.0/16.5 MB 8.4 MB/s eta 0:00:02\n",
      "   ---- ----------------------------------- 1.8/16.5 MB 3.5 MB/s eta 0:00:05\n",
      "   ----- ---------------------------------- 2.4/16.5 MB 3.1 MB/s eta 0:00:05\n",
      "   ------ --------------------------------- 2.6/16.5 MB 3.0 MB/s eta 0:00:05\n",
      "   -------- ------------------------------- 3.4/16.5 MB 2.8 MB/s eta 0:00:05\n",
      "   --------- ------------------------------ 3.9/16.5 MB 2.8 MB/s eta 0:00:05\n",
      "   ---------- ----------------------------- 4.5/16.5 MB 2.7 MB/s eta 0:00:05\n",
      "   ------------ --------------------------- 5.0/16.5 MB 2.7 MB/s eta 0:00:05\n",
      "   ------------- -------------------------- 5.5/16.5 MB 2.7 MB/s eta 0:00:05\n",
      "   -------------- ------------------------- 6.0/16.5 MB 2.6 MB/s eta 0:00:04\n",
      "   --------------- ------------------------ 6.6/16.5 MB 2.6 MB/s eta 0:00:04\n",
      "   ---------------- ----------------------- 6.8/16.5 MB 2.6 MB/s eta 0:00:04\n",
      "   ----------------- ---------------------- 7.3/16.5 MB 2.6 MB/s eta 0:00:04\n",
      "   ------------------- -------------------- 7.9/16.5 MB 2.6 MB/s eta 0:00:04\n",
      "   -------------------- ------------------- 8.4/16.5 MB 2.6 MB/s eta 0:00:04\n",
      "   --------------------- ------------------ 8.9/16.5 MB 2.6 MB/s eta 0:00:03\n",
      "   ---------------------- ----------------- 9.4/16.5 MB 2.6 MB/s eta 0:00:03\n",
      "   ------------------------ --------------- 10.0/16.5 MB 2.6 MB/s eta 0:00:03\n",
      "   ------------------------- -------------- 10.5/16.5 MB 2.5 MB/s eta 0:00:03\n",
      "   -------------------------- ------------- 11.0/16.5 MB 2.5 MB/s eta 0:00:03\n",
      "   --------------------------- ------------ 11.5/16.5 MB 2.5 MB/s eta 0:00:03\n",
      "   ----------------------------- ---------- 12.1/16.5 MB 2.5 MB/s eta 0:00:02\n",
      "   ------------------------------ --------- 12.6/16.5 MB 2.5 MB/s eta 0:00:02\n",
      "   ------------------------------- -------- 13.1/16.5 MB 2.5 MB/s eta 0:00:02\n",
      "   -------------------------------- ------- 13.6/16.5 MB 2.5 MB/s eta 0:00:02\n",
      "   ---------------------------------- ----- 14.2/16.5 MB 2.5 MB/s eta 0:00:01\n",
      "   ----------------------------------- ---- 14.7/16.5 MB 2.5 MB/s eta 0:00:01\n",
      "   ------------------------------------ --- 15.2/16.5 MB 2.5 MB/s eta 0:00:01\n",
      "   -------------------------------------- - 15.7/16.5 MB 2.5 MB/s eta 0:00:01\n",
      "   ---------------------------------------  16.3/16.5 MB 2.5 MB/s eta 0:00:01\n",
      "   ---------------------------------------- 16.5/16.5 MB 2.5 MB/s eta 0:00:00\n",
      "Installing collected packages: pymupdf\n",
      "Successfully installed pymupdf-1.25.3\n",
      "Note: you may need to restart the kernel to use updated packages.\n"
     ]
    }
   ],
   "source": [
    "pip install pymupdf\n"
   ]
  },
  {
   "cell_type": "code",
   "execution_count": null,
   "metadata": {},
   "outputs": [
    {
     "ename": "NameError",
     "evalue": "name 'load_pdf_file' is not defined",
     "output_type": "error",
     "traceback": [
      "\u001b[1;31m---------------------------------------------------------------------------\u001b[0m",
      "\u001b[1;31mNameError\u001b[0m                                 Traceback (most recent call last)",
      "Cell \u001b[1;32mIn[13], line 1\u001b[0m\n\u001b[1;32m----> 1\u001b[0m extracted_data \u001b[38;5;241m=\u001b[39m \u001b[43mload_pdf_file\u001b[49m(data\u001b[38;5;241m=\u001b[39m\u001b[38;5;124m'\u001b[39m\u001b[38;5;124mData/\u001b[39m\u001b[38;5;124m'\u001b[39m)\n",
      "\u001b[1;31mNameError\u001b[0m: name 'load_pdf_file' is not defined"
     ]
    }
   ],
   "source": [
    "extracted_data = load_pdf_file(data='Data/')"
   ]
  },
  {
   "cell_type": "code",
   "execution_count": null,
   "metadata": {},
   "outputs": [
    {
     "name": "stdout",
     "output_type": "stream",
     "text": [
      "Error reading Data/Medical_book.pdf: no such file: 'Data/Medical_book.pdf'\n",
      "[]\n"
     ]
    }
   ],
   "source": [
    "import fitz  # PyMuPDF\n",
    "\n",
    "def load_pdf_with_pymupdf(pdf_path):\n",
    "    documents = []\n",
    "    try:\n",
    "        doc = fitz.open(pdf_path)\n",
    "        for page in doc:\n",
    "            text = page.get_text(\"text\")\n",
    "            documents.append(text)\n",
    "    except Exception as e:\n",
    "        print(f\"Error reading {pdf_path}: {e}\")\n",
    "    return documents\n",
    "\n",
    "# Example usage\n",
    "pdf_path = \"Data/Medical_book.pdf\"\n",
    "documents = load_pdf_with_pymupdf(pdf_path)\n",
    "print(documents)\n"
   ]
  },
  {
   "cell_type": "code",
   "execution_count": null,
   "metadata": {},
   "outputs": [
    {
     "name": "stdout",
     "output_type": "stream",
     "text": [
      "Error reading Data/Medical_book.pdf: no such file: 'Data/Medical_book.pdf'\n",
      "[]\n"
     ]
    }
   ],
   "source": [
    "extracted_data = load_pdf_with_pymupdf(pdf_path)\n",
    "print(extracted_data)\n"
   ]
  },
  {
   "cell_type": "code",
   "execution_count": null,
   "metadata": {},
   "outputs": [
    {
     "name": "stdout",
     "output_type": "stream",
     "text": [
      "[]\n"
     ]
    }
   ],
   "source": [
    "print(documents)\n"
   ]
  },
  {
   "cell_type": "code",
   "execution_count": null,
   "metadata": {},
   "outputs": [
    {
     "data": {
      "text/plain": [
       "[]"
      ]
     },
     "execution_count": 10,
     "metadata": {},
     "output_type": "execute_result"
    }
   ],
   "source": [
    "extracted_data"
   ]
  },
  {
   "cell_type": "code",
   "execution_count": null,
   "metadata": {},
   "outputs": [],
   "source": [
    "from langchain.text_splitter import RecursiveCharacterTextSplitter\n",
    "\n",
    "# Function to split extracted text into chunks\n",
    "def text_split(extracted_data):\n",
    "    text_splitter = RecursiveCharacterTextSplitter(chunk_size=500, chunk_overlap=20)\n",
    "    \n",
    "    # Split raw text into chunks\n",
    "    text_chunks = text_splitter.split_text(extracted_data)\n",
    "    \n",
    "    return text_chunks\n"
   ]
  },
  {
   "cell_type": "code",
   "execution_count": null,
   "metadata": {},
   "outputs": [
    {
     "ename": "TypeError",
     "evalue": "expected string or bytes-like object",
     "output_type": "error",
     "traceback": [
      "\u001b[1;31m---------------------------------------------------------------------------\u001b[0m",
      "\u001b[1;31mTypeError\u001b[0m                                 Traceback (most recent call last)",
      "Cell \u001b[1;32mIn[12], line 1\u001b[0m\n\u001b[1;32m----> 1\u001b[0m text_chunks\u001b[38;5;241m=\u001b[39m\u001b[43mtext_split\u001b[49m\u001b[43m(\u001b[49m\u001b[43mextracted_data\u001b[49m\u001b[43m)\u001b[49m\n\u001b[0;32m      2\u001b[0m \u001b[38;5;28mprint\u001b[39m(\u001b[38;5;28mlen\u001b[39m(text_chunks))\n",
      "Cell \u001b[1;32mIn[11], line 8\u001b[0m, in \u001b[0;36mtext_split\u001b[1;34m(extracted_data)\u001b[0m\n\u001b[0;32m      5\u001b[0m text_splitter \u001b[38;5;241m=\u001b[39m RecursiveCharacterTextSplitter(chunk_size\u001b[38;5;241m=\u001b[39m\u001b[38;5;241m500\u001b[39m, chunk_overlap\u001b[38;5;241m=\u001b[39m\u001b[38;5;241m20\u001b[39m)\n\u001b[0;32m      7\u001b[0m \u001b[38;5;66;03m# Split raw text into chunks\u001b[39;00m\n\u001b[1;32m----> 8\u001b[0m text_chunks \u001b[38;5;241m=\u001b[39m \u001b[43mtext_splitter\u001b[49m\u001b[38;5;241;43m.\u001b[39;49m\u001b[43msplit_text\u001b[49m\u001b[43m(\u001b[49m\u001b[43mextracted_data\u001b[49m\u001b[43m)\u001b[49m\n\u001b[0;32m     10\u001b[0m \u001b[38;5;28;01mreturn\u001b[39;00m text_chunks\n",
      "File \u001b[1;32me:\\anaconda\\envs\\elarova\\lib\\site-packages\\langchain_text_splitters\\character.py:126\u001b[0m, in \u001b[0;36mRecursiveCharacterTextSplitter.split_text\u001b[1;34m(self, text)\u001b[0m\n\u001b[0;32m    117\u001b[0m \u001b[38;5;28;01mdef\u001b[39;00m\u001b[38;5;250m \u001b[39m\u001b[38;5;21msplit_text\u001b[39m(\u001b[38;5;28mself\u001b[39m, text: \u001b[38;5;28mstr\u001b[39m) \u001b[38;5;241m-\u001b[39m\u001b[38;5;241m>\u001b[39m List[\u001b[38;5;28mstr\u001b[39m]:\n\u001b[0;32m    118\u001b[0m \u001b[38;5;250m    \u001b[39m\u001b[38;5;124;03m\"\"\"Split the input text into smaller chunks based on predefined separators.\u001b[39;00m\n\u001b[0;32m    119\u001b[0m \n\u001b[0;32m    120\u001b[0m \u001b[38;5;124;03m    Args:\u001b[39;00m\n\u001b[1;32m   (...)\u001b[0m\n\u001b[0;32m    124\u001b[0m \u001b[38;5;124;03m        List[str]: A list of text chunks obtained after splitting.\u001b[39;00m\n\u001b[0;32m    125\u001b[0m \u001b[38;5;124;03m    \"\"\"\u001b[39;00m\n\u001b[1;32m--> 126\u001b[0m     \u001b[38;5;28;01mreturn\u001b[39;00m \u001b[38;5;28;43mself\u001b[39;49m\u001b[38;5;241;43m.\u001b[39;49m\u001b[43m_split_text\u001b[49m\u001b[43m(\u001b[49m\u001b[43mtext\u001b[49m\u001b[43m,\u001b[49m\u001b[43m \u001b[49m\u001b[38;5;28;43mself\u001b[39;49m\u001b[38;5;241;43m.\u001b[39;49m\u001b[43m_separators\u001b[49m\u001b[43m)\u001b[49m\n",
      "File \u001b[1;32me:\\anaconda\\envs\\elarova\\lib\\site-packages\\langchain_text_splitters\\character.py:88\u001b[0m, in \u001b[0;36mRecursiveCharacterTextSplitter._split_text\u001b[1;34m(self, text, separators)\u001b[0m\n\u001b[0;32m     86\u001b[0m     separator \u001b[38;5;241m=\u001b[39m _s\n\u001b[0;32m     87\u001b[0m     \u001b[38;5;28;01mbreak\u001b[39;00m\n\u001b[1;32m---> 88\u001b[0m \u001b[38;5;28;01mif\u001b[39;00m \u001b[43mre\u001b[49m\u001b[38;5;241;43m.\u001b[39;49m\u001b[43msearch\u001b[49m\u001b[43m(\u001b[49m\u001b[43m_separator\u001b[49m\u001b[43m,\u001b[49m\u001b[43m \u001b[49m\u001b[43mtext\u001b[49m\u001b[43m)\u001b[49m:\n\u001b[0;32m     89\u001b[0m     separator \u001b[38;5;241m=\u001b[39m _s\n\u001b[0;32m     90\u001b[0m     new_separators \u001b[38;5;241m=\u001b[39m separators[i \u001b[38;5;241m+\u001b[39m \u001b[38;5;241m1\u001b[39m :]\n",
      "File \u001b[1;32me:\\anaconda\\envs\\elarova\\lib\\re.py:200\u001b[0m, in \u001b[0;36msearch\u001b[1;34m(pattern, string, flags)\u001b[0m\n\u001b[0;32m    197\u001b[0m \u001b[38;5;28;01mdef\u001b[39;00m\u001b[38;5;250m \u001b[39m\u001b[38;5;21msearch\u001b[39m(pattern, string, flags\u001b[38;5;241m=\u001b[39m\u001b[38;5;241m0\u001b[39m):\n\u001b[0;32m    198\u001b[0m \u001b[38;5;250m    \u001b[39m\u001b[38;5;124;03m\"\"\"Scan through string looking for a match to the pattern, returning\u001b[39;00m\n\u001b[0;32m    199\u001b[0m \u001b[38;5;124;03m    a Match object, or None if no match was found.\"\"\"\u001b[39;00m\n\u001b[1;32m--> 200\u001b[0m     \u001b[38;5;28;01mreturn\u001b[39;00m \u001b[43m_compile\u001b[49m\u001b[43m(\u001b[49m\u001b[43mpattern\u001b[49m\u001b[43m,\u001b[49m\u001b[43m \u001b[49m\u001b[43mflags\u001b[49m\u001b[43m)\u001b[49m\u001b[38;5;241;43m.\u001b[39;49m\u001b[43msearch\u001b[49m\u001b[43m(\u001b[49m\u001b[43mstring\u001b[49m\u001b[43m)\u001b[49m\n",
      "\u001b[1;31mTypeError\u001b[0m: expected string or bytes-like object"
     ]
    }
   ],
   "source": [
    "text_chunks=text_split(extracted_data)\n",
    "print(len(text_chunks))"
   ]
  },
  {
   "cell_type": "code",
   "execution_count": null,
   "metadata": {},
   "outputs": [
    {
     "name": "stdout",
     "output_type": "stream",
     "text": [
      "Extracted Data Type: <class 'list'>\n",
      "Extracted Data Length: 759\n",
      "Length of text chunks: 6637\n"
     ]
    }
   ],
   "source": [
    "from langchain.text_splitter import RecursiveCharacterTextSplitter\n",
    "\n",
    "def text_split(extracted_data):\n",
    "    # Handle case where extracted_data is empty\n",
    "    if not extracted_data:\n",
    "        print(\"Error: extracted_data is empty. No text to split.\")\n",
    "        return []\n",
    "\n",
    "    # Check if extracted_data is a list of dicts with 'text' key\n",
    "    if isinstance(extracted_data, list) and isinstance(extracted_data[0], dict) and 'text' in extracted_data[0]:\n",
    "        texts = [doc['text'] for doc in extracted_data]  # Extract text\n",
    "    elif isinstance(extracted_data, list) and all(isinstance(item, str) for item in extracted_data):\n",
    "        texts = extracted_data  # List of raw text\n",
    "    elif isinstance(extracted_data, str):\n",
    "        texts = [extracted_data]  # Convert single string to list\n",
    "    else:\n",
    "        print(\"Error: extracted_data format is not recognized.\")\n",
    "        return []\n",
    "\n",
    "    # Initialize the text splitter\n",
    "    text_splitter = RecursiveCharacterTextSplitter(chunk_size=500, chunk_overlap=20)\n",
    "    \n",
    "    # Split the text into chunks\n",
    "    text_chunks = text_splitter.split_text(' '.join(texts))  # Join text if it's a list\n",
    "    return text_chunks\n",
    "\n",
    "# Debugging\n",
    "print(\"Extracted Data Type:\", type(extracted_data))\n",
    "print(\"Extracted Data Length:\", len(extracted_data) if isinstance(extracted_data, list) else \"N/A\")\n",
    "\n",
    "# Example usage\n",
    "text_chunks = text_split(extracted_data)\n",
    "print(\"Length of text chunks:\", len(text_chunks))\n"
   ]
  },
  {
   "cell_type": "code",
   "execution_count": null,
   "metadata": {},
   "outputs": [],
   "source": [
    "from langchain.embeddings import HuggingFaceBgeEmbeddings"
   ]
  },
  {
   "cell_type": "code",
   "execution_count": null,
   "metadata": {},
   "outputs": [],
   "source": [
    "#downloading the embedding from hugging face\n",
    "def download_hugging_face_embeddings():\n",
    "    embeddings=HuggingFaceBgeEmbeddings(model_name='sentence-transformers/all-MiniLM-L6-v2')\n",
    "    return embeddings"
   ]
  },
  {
   "cell_type": "code",
   "execution_count": null,
   "metadata": {},
   "outputs": [
    {
     "name": "stdout",
     "output_type": "stream",
     "text": [
      "Note: you may need to restart the kernel to use updated packages.\n"
     ]
    },
    {
     "name": "stderr",
     "output_type": "stream",
     "text": [
      "ERROR: You must give at least one requirement to install (see \"pip help install\")\n"
     ]
    }
   ],
   "source": [
    "pip install -U "
   ]
  },
  {
   "cell_type": "code",
   "execution_count": null,
   "metadata": {},
   "outputs": [
    {
     "name": "stdout",
     "output_type": "stream",
     "text": [
      "Requirement already satisfied: langchain in e:\\anaconda\\envs\\elarova\\lib\\site-packages (0.3.20)\n",
      "Requirement already satisfied: sentence-transformers in e:\\anaconda\\envs\\elarova\\lib\\site-packages (3.4.1)\n",
      "Requirement already satisfied: langchain-core<1.0.0,>=0.3.41 in e:\\anaconda\\envs\\elarova\\lib\\site-packages (from langchain) (0.3.44)\n",
      "Requirement already satisfied: langchain-text-splitters<1.0.0,>=0.3.6 in e:\\anaconda\\envs\\elarova\\lib\\site-packages (from langchain) (0.3.6)\n",
      "Requirement already satisfied: langsmith<0.4,>=0.1.17 in e:\\anaconda\\envs\\elarova\\lib\\site-packages (from langchain) (0.3.13)\n",
      "Requirement already satisfied: pydantic<3.0.0,>=2.7.4 in e:\\anaconda\\envs\\elarova\\lib\\site-packages (from langchain) (2.10.6)\n",
      "Requirement already satisfied: SQLAlchemy<3,>=1.4 in e:\\anaconda\\envs\\elarova\\lib\\site-packages (from langchain) (2.0.39)\n",
      "Requirement already satisfied: requests<3,>=2 in e:\\anaconda\\envs\\elarova\\lib\\site-packages (from langchain) (2.32.3)\n",
      "Requirement already satisfied: PyYAML>=5.3 in e:\\anaconda\\envs\\elarova\\lib\\site-packages (from langchain) (6.0.2)\n",
      "Requirement already satisfied: async-timeout<5.0.0,>=4.0.0 in e:\\anaconda\\envs\\elarova\\lib\\site-packages (from langchain) (4.0.3)\n",
      "Requirement already satisfied: transformers<5.0.0,>=4.41.0 in e:\\anaconda\\envs\\elarova\\lib\\site-packages (from sentence-transformers) (4.49.0)\n",
      "Requirement already satisfied: tqdm in e:\\anaconda\\envs\\elarova\\lib\\site-packages (from sentence-transformers) (4.67.1)\n",
      "Requirement already satisfied: torch>=1.11.0 in e:\\anaconda\\envs\\elarova\\lib\\site-packages (from sentence-transformers) (2.6.0)\n",
      "Requirement already satisfied: scikit-learn in e:\\anaconda\\envs\\elarova\\lib\\site-packages (from sentence-transformers) (1.6.1)\n",
      "Requirement already satisfied: scipy in e:\\anaconda\\envs\\elarova\\lib\\site-packages (from sentence-transformers) (1.15.2)\n",
      "Requirement already satisfied: huggingface-hub>=0.20.0 in e:\\anaconda\\envs\\elarova\\lib\\site-packages (from sentence-transformers) (0.29.3)\n",
      "Requirement already satisfied: Pillow in e:\\anaconda\\envs\\elarova\\lib\\site-packages (from sentence-transformers) (11.1.0)\n",
      "Requirement already satisfied: filelock in e:\\anaconda\\envs\\elarova\\lib\\site-packages (from huggingface-hub>=0.20.0->sentence-transformers) (3.17.0)\n",
      "Requirement already satisfied: fsspec>=2023.5.0 in e:\\anaconda\\envs\\elarova\\lib\\site-packages (from huggingface-hub>=0.20.0->sentence-transformers) (2025.3.0)\n",
      "Requirement already satisfied: packaging>=20.9 in e:\\anaconda\\envs\\elarova\\lib\\site-packages (from huggingface-hub>=0.20.0->sentence-transformers) (24.2)\n",
      "Requirement already satisfied: typing-extensions>=3.7.4.3 in e:\\anaconda\\envs\\elarova\\lib\\site-packages (from huggingface-hub>=0.20.0->sentence-transformers) (4.12.2)\n",
      "Requirement already satisfied: tenacity!=8.4.0,<10.0.0,>=8.1.0 in e:\\anaconda\\envs\\elarova\\lib\\site-packages (from langchain-core<1.0.0,>=0.3.41->langchain) (9.0.0)\n",
      "Requirement already satisfied: jsonpatch<2.0,>=1.33 in e:\\anaconda\\envs\\elarova\\lib\\site-packages (from langchain-core<1.0.0,>=0.3.41->langchain) (1.33)\n",
      "Requirement already satisfied: httpx<1,>=0.23.0 in e:\\anaconda\\envs\\elarova\\lib\\site-packages (from langsmith<0.4,>=0.1.17->langchain) (0.28.1)\n",
      "Requirement already satisfied: orjson<4.0.0,>=3.9.14 in e:\\anaconda\\envs\\elarova\\lib\\site-packages (from langsmith<0.4,>=0.1.17->langchain) (3.10.15)\n",
      "Requirement already satisfied: requests-toolbelt<2.0.0,>=1.0.0 in e:\\anaconda\\envs\\elarova\\lib\\site-packages (from langsmith<0.4,>=0.1.17->langchain) (1.0.0)\n",
      "Requirement already satisfied: zstandard<0.24.0,>=0.23.0 in e:\\anaconda\\envs\\elarova\\lib\\site-packages (from langsmith<0.4,>=0.1.17->langchain) (0.23.0)\n",
      "Requirement already satisfied: annotated-types>=0.6.0 in e:\\anaconda\\envs\\elarova\\lib\\site-packages (from pydantic<3.0.0,>=2.7.4->langchain) (0.7.0)\n",
      "Requirement already satisfied: pydantic-core==2.27.2 in e:\\anaconda\\envs\\elarova\\lib\\site-packages (from pydantic<3.0.0,>=2.7.4->langchain) (2.27.2)\n",
      "Requirement already satisfied: charset-normalizer<4,>=2 in e:\\anaconda\\envs\\elarova\\lib\\site-packages (from requests<3,>=2->langchain) (3.4.1)\n",
      "Requirement already satisfied: idna<4,>=2.5 in e:\\anaconda\\envs\\elarova\\lib\\site-packages (from requests<3,>=2->langchain) (3.10)\n",
      "Requirement already satisfied: urllib3<3,>=1.21.1 in e:\\anaconda\\envs\\elarova\\lib\\site-packages (from requests<3,>=2->langchain) (2.3.0)\n",
      "Requirement already satisfied: certifi>=2017.4.17 in e:\\anaconda\\envs\\elarova\\lib\\site-packages (from requests<3,>=2->langchain) (2025.1.31)\n",
      "Requirement already satisfied: greenlet!=0.4.17 in e:\\anaconda\\envs\\elarova\\lib\\site-packages (from SQLAlchemy<3,>=1.4->langchain) (3.1.1)\n",
      "Requirement already satisfied: networkx in e:\\anaconda\\envs\\elarova\\lib\\site-packages (from torch>=1.11.0->sentence-transformers) (3.4.2)\n",
      "Requirement already satisfied: jinja2 in e:\\anaconda\\envs\\elarova\\lib\\site-packages (from torch>=1.11.0->sentence-transformers) (3.1.6)\n",
      "Requirement already satisfied: sympy==1.13.1 in e:\\anaconda\\envs\\elarova\\lib\\site-packages (from torch>=1.11.0->sentence-transformers) (1.13.1)\n",
      "Requirement already satisfied: mpmath<1.4,>=1.1.0 in e:\\anaconda\\envs\\elarova\\lib\\site-packages (from sympy==1.13.1->torch>=1.11.0->sentence-transformers) (1.3.0)\n",
      "Requirement already satisfied: colorama in e:\\anaconda\\envs\\elarova\\lib\\site-packages (from tqdm->sentence-transformers) (0.4.6)\n",
      "Requirement already satisfied: numpy>=1.17 in e:\\anaconda\\envs\\elarova\\lib\\site-packages (from transformers<5.0.0,>=4.41.0->sentence-transformers) (1.26.4)\n",
      "Requirement already satisfied: regex!=2019.12.17 in e:\\anaconda\\envs\\elarova\\lib\\site-packages (from transformers<5.0.0,>=4.41.0->sentence-transformers) (2024.11.6)\n",
      "Requirement already satisfied: tokenizers<0.22,>=0.21 in e:\\anaconda\\envs\\elarova\\lib\\site-packages (from transformers<5.0.0,>=4.41.0->sentence-transformers) (0.21.1)\n",
      "Requirement already satisfied: safetensors>=0.4.1 in e:\\anaconda\\envs\\elarova\\lib\\site-packages (from transformers<5.0.0,>=4.41.0->sentence-transformers) (0.5.3)\n",
      "Requirement already satisfied: joblib>=1.2.0 in e:\\anaconda\\envs\\elarova\\lib\\site-packages (from scikit-learn->sentence-transformers) (1.4.2)\n",
      "Requirement already satisfied: threadpoolctl>=3.1.0 in e:\\anaconda\\envs\\elarova\\lib\\site-packages (from scikit-learn->sentence-transformers) (3.6.0)\n",
      "Requirement already satisfied: anyio in e:\\anaconda\\envs\\elarova\\lib\\site-packages (from httpx<1,>=0.23.0->langsmith<0.4,>=0.1.17->langchain) (4.8.0)\n",
      "Requirement already satisfied: httpcore==1.* in e:\\anaconda\\envs\\elarova\\lib\\site-packages (from httpx<1,>=0.23.0->langsmith<0.4,>=0.1.17->langchain) (1.0.7)\n",
      "Requirement already satisfied: h11<0.15,>=0.13 in e:\\anaconda\\envs\\elarova\\lib\\site-packages (from httpcore==1.*->httpx<1,>=0.23.0->langsmith<0.4,>=0.1.17->langchain) (0.14.0)\n",
      "Requirement already satisfied: jsonpointer>=1.9 in e:\\anaconda\\envs\\elarova\\lib\\site-packages (from jsonpatch<2.0,>=1.33->langchain-core<1.0.0,>=0.3.41->langchain) (3.0.0)\n",
      "Requirement already satisfied: MarkupSafe>=2.0 in e:\\anaconda\\envs\\elarova\\lib\\site-packages (from jinja2->torch>=1.11.0->sentence-transformers) (3.0.2)\n",
      "Requirement already satisfied: exceptiongroup>=1.0.2 in e:\\anaconda\\envs\\elarova\\lib\\site-packages (from anyio->httpx<1,>=0.23.0->langsmith<0.4,>=0.1.17->langchain) (1.2.2)\n",
      "Requirement already satisfied: sniffio>=1.1 in e:\\anaconda\\envs\\elarova\\lib\\site-packages (from anyio->httpx<1,>=0.23.0->langsmith<0.4,>=0.1.17->langchain) (1.3.1)\n",
      "Note: you may need to restart the kernel to use updated packages.\n"
     ]
    }
   ],
   "source": [
    "pip install langchain sentence-transformers\n"
   ]
  },
  {
   "cell_type": "code",
   "execution_count": null,
   "metadata": {},
   "outputs": [],
   "source": [
    "from langchain.embeddings import HuggingFaceEmbeddings\n"
   ]
  },
  {
   "cell_type": "code",
   "execution_count": null,
   "metadata": {},
   "outputs": [
    {
     "name": "stdout",
     "output_type": "stream",
     "text": [
      "Requirement already satisfied: langchain-huggingface in e:\\anaconda\\envs\\elarova\\lib\\site-packages (0.1.2)\n",
      "Requirement already satisfied: huggingface-hub>=0.23.0 in e:\\anaconda\\envs\\elarova\\lib\\site-packages (from langchain-huggingface) (0.29.3)\n",
      "Requirement already satisfied: langchain-core<0.4.0,>=0.3.15 in e:\\anaconda\\envs\\elarova\\lib\\site-packages (from langchain-huggingface) (0.3.44)\n",
      "Requirement already satisfied: sentence-transformers>=2.6.0 in e:\\anaconda\\envs\\elarova\\lib\\site-packages (from langchain-huggingface) (3.4.1)\n",
      "Requirement already satisfied: tokenizers>=0.19.1 in e:\\anaconda\\envs\\elarova\\lib\\site-packages (from langchain-huggingface) (0.21.1)\n",
      "Requirement already satisfied: transformers>=4.39.0 in e:\\anaconda\\envs\\elarova\\lib\\site-packages (from langchain-huggingface) (4.49.0)\n",
      "Requirement already satisfied: filelock in e:\\anaconda\\envs\\elarova\\lib\\site-packages (from huggingface-hub>=0.23.0->langchain-huggingface) (3.17.0)\n",
      "Requirement already satisfied: fsspec>=2023.5.0 in e:\\anaconda\\envs\\elarova\\lib\\site-packages (from huggingface-hub>=0.23.0->langchain-huggingface) (2025.3.0)\n",
      "Requirement already satisfied: packaging>=20.9 in e:\\anaconda\\envs\\elarova\\lib\\site-packages (from huggingface-hub>=0.23.0->langchain-huggingface) (24.2)\n",
      "Requirement already satisfied: pyyaml>=5.1 in e:\\anaconda\\envs\\elarova\\lib\\site-packages (from huggingface-hub>=0.23.0->langchain-huggingface) (6.0.2)\n",
      "Requirement already satisfied: requests in e:\\anaconda\\envs\\elarova\\lib\\site-packages (from huggingface-hub>=0.23.0->langchain-huggingface) (2.32.3)\n",
      "Requirement already satisfied: tqdm>=4.42.1 in e:\\anaconda\\envs\\elarova\\lib\\site-packages (from huggingface-hub>=0.23.0->langchain-huggingface) (4.67.1)\n",
      "Requirement already satisfied: typing-extensions>=3.7.4.3 in e:\\anaconda\\envs\\elarova\\lib\\site-packages (from huggingface-hub>=0.23.0->langchain-huggingface) (4.12.2)\n",
      "Requirement already satisfied: langsmith<0.4,>=0.1.125 in e:\\anaconda\\envs\\elarova\\lib\\site-packages (from langchain-core<0.4.0,>=0.3.15->langchain-huggingface) (0.3.13)\n",
      "Requirement already satisfied: tenacity!=8.4.0,<10.0.0,>=8.1.0 in e:\\anaconda\\envs\\elarova\\lib\\site-packages (from langchain-core<0.4.0,>=0.3.15->langchain-huggingface) (9.0.0)\n",
      "Requirement already satisfied: jsonpatch<2.0,>=1.33 in e:\\anaconda\\envs\\elarova\\lib\\site-packages (from langchain-core<0.4.0,>=0.3.15->langchain-huggingface) (1.33)\n",
      "Requirement already satisfied: pydantic<3.0.0,>=2.5.2 in e:\\anaconda\\envs\\elarova\\lib\\site-packages (from langchain-core<0.4.0,>=0.3.15->langchain-huggingface) (2.10.6)\n",
      "Requirement already satisfied: torch>=1.11.0 in e:\\anaconda\\envs\\elarova\\lib\\site-packages (from sentence-transformers>=2.6.0->langchain-huggingface) (2.6.0)\n",
      "Requirement already satisfied: scikit-learn in e:\\anaconda\\envs\\elarova\\lib\\site-packages (from sentence-transformers>=2.6.0->langchain-huggingface) (1.6.1)\n",
      "Requirement already satisfied: scipy in e:\\anaconda\\envs\\elarova\\lib\\site-packages (from sentence-transformers>=2.6.0->langchain-huggingface) (1.15.2)\n",
      "Requirement already satisfied: Pillow in e:\\anaconda\\envs\\elarova\\lib\\site-packages (from sentence-transformers>=2.6.0->langchain-huggingface) (11.1.0)\n",
      "Requirement already satisfied: numpy>=1.17 in e:\\anaconda\\envs\\elarova\\lib\\site-packages (from transformers>=4.39.0->langchain-huggingface) (1.26.4)\n",
      "Requirement already satisfied: regex!=2019.12.17 in e:\\anaconda\\envs\\elarova\\lib\\site-packages (from transformers>=4.39.0->langchain-huggingface) (2024.11.6)\n",
      "Requirement already satisfied: safetensors>=0.4.1 in e:\\anaconda\\envs\\elarova\\lib\\site-packages (from transformers>=4.39.0->langchain-huggingface) (0.5.3)\n",
      "Requirement already satisfied: jsonpointer>=1.9 in e:\\anaconda\\envs\\elarova\\lib\\site-packages (from jsonpatch<2.0,>=1.33->langchain-core<0.4.0,>=0.3.15->langchain-huggingface) (3.0.0)\n",
      "Requirement already satisfied: httpx<1,>=0.23.0 in e:\\anaconda\\envs\\elarova\\lib\\site-packages (from langsmith<0.4,>=0.1.125->langchain-core<0.4.0,>=0.3.15->langchain-huggingface) (0.28.1)\n",
      "Requirement already satisfied: orjson<4.0.0,>=3.9.14 in e:\\anaconda\\envs\\elarova\\lib\\site-packages (from langsmith<0.4,>=0.1.125->langchain-core<0.4.0,>=0.3.15->langchain-huggingface) (3.10.15)\n",
      "Requirement already satisfied: requests-toolbelt<2.0.0,>=1.0.0 in e:\\anaconda\\envs\\elarova\\lib\\site-packages (from langsmith<0.4,>=0.1.125->langchain-core<0.4.0,>=0.3.15->langchain-huggingface) (1.0.0)\n",
      "Requirement already satisfied: zstandard<0.24.0,>=0.23.0 in e:\\anaconda\\envs\\elarova\\lib\\site-packages (from langsmith<0.4,>=0.1.125->langchain-core<0.4.0,>=0.3.15->langchain-huggingface) (0.23.0)\n",
      "Requirement already satisfied: annotated-types>=0.6.0 in e:\\anaconda\\envs\\elarova\\lib\\site-packages (from pydantic<3.0.0,>=2.5.2->langchain-core<0.4.0,>=0.3.15->langchain-huggingface) (0.7.0)\n",
      "Requirement already satisfied: pydantic-core==2.27.2 in e:\\anaconda\\envs\\elarova\\lib\\site-packages (from pydantic<3.0.0,>=2.5.2->langchain-core<0.4.0,>=0.3.15->langchain-huggingface) (2.27.2)\n",
      "Requirement already satisfied: charset-normalizer<4,>=2 in e:\\anaconda\\envs\\elarova\\lib\\site-packages (from requests->huggingface-hub>=0.23.0->langchain-huggingface) (3.4.1)\n",
      "Requirement already satisfied: idna<4,>=2.5 in e:\\anaconda\\envs\\elarova\\lib\\site-packages (from requests->huggingface-hub>=0.23.0->langchain-huggingface) (3.10)\n",
      "Requirement already satisfied: urllib3<3,>=1.21.1 in e:\\anaconda\\envs\\elarova\\lib\\site-packages (from requests->huggingface-hub>=0.23.0->langchain-huggingface) (2.3.0)\n",
      "Requirement already satisfied: certifi>=2017.4.17 in e:\\anaconda\\envs\\elarova\\lib\\site-packages (from requests->huggingface-hub>=0.23.0->langchain-huggingface) (2025.1.31)\n",
      "Requirement already satisfied: networkx in e:\\anaconda\\envs\\elarova\\lib\\site-packages (from torch>=1.11.0->sentence-transformers>=2.6.0->langchain-huggingface) (3.4.2)\n",
      "Requirement already satisfied: jinja2 in e:\\anaconda\\envs\\elarova\\lib\\site-packages (from torch>=1.11.0->sentence-transformers>=2.6.0->langchain-huggingface) (3.1.6)\n",
      "Requirement already satisfied: sympy==1.13.1 in e:\\anaconda\\envs\\elarova\\lib\\site-packages (from torch>=1.11.0->sentence-transformers>=2.6.0->langchain-huggingface) (1.13.1)\n",
      "Requirement already satisfied: mpmath<1.4,>=1.1.0 in e:\\anaconda\\envs\\elarova\\lib\\site-packages (from sympy==1.13.1->torch>=1.11.0->sentence-transformers>=2.6.0->langchain-huggingface) (1.3.0)\n",
      "Requirement already satisfied: colorama in e:\\anaconda\\envs\\elarova\\lib\\site-packages (from tqdm>=4.42.1->huggingface-hub>=0.23.0->langchain-huggingface) (0.4.6)\n",
      "Requirement already satisfied: joblib>=1.2.0 in e:\\anaconda\\envs\\elarova\\lib\\site-packages (from scikit-learn->sentence-transformers>=2.6.0->langchain-huggingface) (1.4.2)\n",
      "Requirement already satisfied: threadpoolctl>=3.1.0 in e:\\anaconda\\envs\\elarova\\lib\\site-packages (from scikit-learn->sentence-transformers>=2.6.0->langchain-huggingface) (3.6.0)\n",
      "Requirement already satisfied: anyio in e:\\anaconda\\envs\\elarova\\lib\\site-packages (from httpx<1,>=0.23.0->langsmith<0.4,>=0.1.125->langchain-core<0.4.0,>=0.3.15->langchain-huggingface) (4.8.0)\n",
      "Requirement already satisfied: httpcore==1.* in e:\\anaconda\\envs\\elarova\\lib\\site-packages (from httpx<1,>=0.23.0->langsmith<0.4,>=0.1.125->langchain-core<0.4.0,>=0.3.15->langchain-huggingface) (1.0.7)\n",
      "Requirement already satisfied: h11<0.15,>=0.13 in e:\\anaconda\\envs\\elarova\\lib\\site-packages (from httpcore==1.*->httpx<1,>=0.23.0->langsmith<0.4,>=0.1.125->langchain-core<0.4.0,>=0.3.15->langchain-huggingface) (0.14.0)\n",
      "Requirement already satisfied: MarkupSafe>=2.0 in e:\\anaconda\\envs\\elarova\\lib\\site-packages (from jinja2->torch>=1.11.0->sentence-transformers>=2.6.0->langchain-huggingface) (3.0.2)\n",
      "Requirement already satisfied: exceptiongroup>=1.0.2 in e:\\anaconda\\envs\\elarova\\lib\\site-packages (from anyio->httpx<1,>=0.23.0->langsmith<0.4,>=0.1.125->langchain-core<0.4.0,>=0.3.15->langchain-huggingface) (1.2.2)\n",
      "Requirement already satisfied: sniffio>=1.1 in e:\\anaconda\\envs\\elarova\\lib\\site-packages (from anyio->httpx<1,>=0.23.0->langsmith<0.4,>=0.1.125->langchain-core<0.4.0,>=0.3.15->langchain-huggingface) (1.3.1)\n",
      "Note: you may need to restart the kernel to use updated packages.\n"
     ]
    }
   ],
   "source": [
    "pip install -U langchain-huggingface\n"
   ]
  },
  {
   "cell_type": "code",
   "execution_count": null,
   "metadata": {},
   "outputs": [],
   "source": [
    "from langchain_huggingface import HuggingFaceEmbeddings\n"
   ]
  },
  {
   "cell_type": "code",
   "execution_count": null,
   "metadata": {},
   "outputs": [
    {
     "name": "stdout",
     "output_type": "stream",
     "text": [
      "1.26.4\n",
      "['ALLOW_THREADS', 'BUFSIZE', 'CLIP', 'DataSource', 'ERR_CALL', 'ERR_DEFAULT', 'ERR_IGNORE', 'ERR_LOG', 'ERR_PRINT', 'ERR_RAISE', 'ERR_WARN', 'FLOATING_POINT_SUPPORT', 'FPE_DIVIDEBYZERO', 'FPE_INVALID', 'FPE_OVERFLOW', 'FPE_UNDERFLOW', 'False_', 'Inf', 'Infinity', 'MAXDIMS', 'MAY_SHARE_BOUNDS', 'MAY_SHARE_EXACT', 'NAN', 'NINF', 'NZERO', 'NaN', 'PINF', 'PZERO', 'RAISE', 'RankWarning', 'SHIFT_DIVIDEBYZERO', 'SHIFT_INVALID', 'SHIFT_OVERFLOW', 'SHIFT_UNDERFLOW', 'ScalarType', 'True_', 'UFUNC_BUFSIZE_DEFAULT', 'UFUNC_PYVALS_NAME', 'WRAP', '_CopyMode', '_NoValue', '_UFUNC_API', '__NUMPY_SETUP__', '__all__', '__builtins__', '__cached__', '__config__', '__deprecated_attrs__', '__dir__', '__doc__', '__expired_functions__', '__file__', '__former_attrs__', '__future_scalars__', '__getattr__', '__loader__', '__name__', '__package__', '__path__', '__spec__', '__version__', '_add_newdoc_ufunc', '_builtins', '_distributor_init', '_financial_names', '_get_promotion_state', '_globals', '_int_extended_msg', '_mat', '_no_nep50_warning', '_pyinstaller_hooks_dir', '_pytesttester', '_set_promotion_state', '_specific_msg', '_typing', '_using_numpy2_behavior', '_utils', 'abs', 'absolute', 'add', 'add_docstring', 'add_newdoc', 'add_newdoc_ufunc', 'all', 'allclose', 'alltrue', 'amax', 'amin', 'angle', 'any', 'append', 'apply_along_axis', 'apply_over_axes', 'arange', 'arccos', 'arccosh', 'arcsin', 'arcsinh', 'arctan', 'arctan2', 'arctanh', 'argmax', 'argmin', 'argpartition', 'argsort', 'argwhere', 'around', 'array', 'array2string', 'array_equal', 'array_equiv', 'array_repr', 'array_split', 'array_str', 'asanyarray', 'asarray', 'asarray_chkfinite', 'ascontiguousarray', 'asfarray', 'asfortranarray', 'asmatrix', 'atleast_1d', 'atleast_2d', 'atleast_3d', 'average', 'bartlett', 'base_repr', 'binary_repr', 'bincount', 'bitwise_and', 'bitwise_not', 'bitwise_or', 'bitwise_xor', 'blackman', 'block', 'bmat', 'bool_', 'broadcast', 'broadcast_arrays', 'broadcast_shapes', 'broadcast_to', 'busday_count', 'busday_offset', 'busdaycalendar', 'byte', 'byte_bounds', 'bytes_', 'c_', 'can_cast', 'cast', 'cbrt', 'cdouble', 'ceil', 'cfloat', 'char', 'character', 'chararray', 'choose', 'clip', 'clongdouble', 'clongfloat', 'column_stack', 'common_type', 'compare_chararrays', 'compat', 'complex128', 'complex64', 'complex_', 'complexfloating', 'compress', 'concatenate', 'conj', 'conjugate', 'convolve', 'copy', 'copysign', 'copyto', 'corrcoef', 'correlate', 'cos', 'cosh', 'count_nonzero', 'cov', 'cross', 'csingle', 'ctypeslib', 'cumprod', 'cumproduct', 'cumsum', 'datetime64', 'datetime_as_string', 'datetime_data', 'deg2rad', 'degrees', 'delete', 'deprecate', 'deprecate_with_doc', 'diag', 'diag_indices', 'diag_indices_from', 'diagflat', 'diagonal', 'diff', 'digitize', 'disp', 'divide', 'divmod', 'dot', 'double', 'dsplit', 'dstack', 'dtype', 'dtypes', 'e', 'ediff1d', 'einsum', 'einsum_path', 'emath', 'empty', 'empty_like', 'equal', 'errstate', 'euler_gamma', 'exceptions', 'exp', 'exp2', 'expand_dims', 'expm1', 'extract', 'eye', 'fabs', 'fastCopyAndTranspose', 'fft', 'fill_diagonal', 'find_common_type', 'finfo', 'fix', 'flatiter', 'flatnonzero', 'flexible', 'flip', 'fliplr', 'flipud', 'float16', 'float32', 'float64', 'float_', 'float_power', 'floating', 'floor', 'floor_divide', 'fmax', 'fmin', 'fmod', 'format_float_positional', 'format_float_scientific', 'format_parser', 'frexp', 'from_dlpack', 'frombuffer', 'fromfile', 'fromfunction', 'fromiter', 'frompyfunc', 'fromregex', 'fromstring', 'full', 'full_like', 'gcd', 'generic', 'genfromtxt', 'geomspace', 'get_array_wrap', 'get_include', 'get_printoptions', 'getbufsize', 'geterr', 'geterrcall', 'geterrobj', 'gradient', 'greater', 'greater_equal', 'half', 'hamming', 'hanning', 'heaviside', 'histogram', 'histogram2d', 'histogram_bin_edges', 'histogramdd', 'hsplit', 'hstack', 'hypot', 'i0', 'identity', 'iinfo', 'imag', 'in1d', 'index_exp', 'indices', 'inexact', 'inf', 'info', 'infty', 'inner', 'insert', 'int16', 'int32', 'int64', 'int8', 'int_', 'intc', 'integer', 'interp', 'intersect1d', 'intp', 'invert', 'is_busday', 'isclose', 'iscomplex', 'iscomplexobj', 'isfinite', 'isfortran', 'isin', 'isinf', 'isnan', 'isnat', 'isneginf', 'isposinf', 'isreal', 'isrealobj', 'isscalar', 'issctype', 'issubclass_', 'issubdtype', 'issubsctype', 'iterable', 'ix_', 'kaiser', 'kron', 'lcm', 'ldexp', 'left_shift', 'less', 'less_equal', 'lexsort', 'lib', 'linalg', 'linspace', 'little_endian', 'load', 'loadtxt', 'log', 'log10', 'log1p', 'log2', 'logaddexp', 'logaddexp2', 'logical_and', 'logical_not', 'logical_or', 'logical_xor', 'logspace', 'longcomplex', 'longdouble', 'longfloat', 'longlong', 'lookfor', 'ma', 'mask_indices', 'mat', 'matmul', 'matrix', 'max', 'maximum', 'maximum_sctype', 'may_share_memory', 'mean', 'median', 'memmap', 'meshgrid', 'mgrid', 'min', 'min_scalar_type', 'minimum', 'mintypecode', 'mod', 'modf', 'moveaxis', 'msort', 'multiply', 'nan', 'nan_to_num', 'nanargmax', 'nanargmin', 'nancumprod', 'nancumsum', 'nanmax', 'nanmean', 'nanmedian', 'nanmin', 'nanpercentile', 'nanprod', 'nanquantile', 'nanstd', 'nansum', 'nanvar', 'nbytes', 'ndarray', 'ndenumerate', 'ndim', 'ndindex', 'nditer', 'negative', 'nested_iters', 'newaxis', 'nextafter', 'nonzero', 'not_equal', 'numarray', 'number', 'obj2sctype', 'object_', 'ogrid', 'oldnumeric', 'ones', 'ones_like', 'outer', 'packbits', 'pad', 'partition', 'percentile', 'pi', 'piecewise', 'place', 'poly', 'poly1d', 'polyadd', 'polyder', 'polydiv', 'polyfit', 'polyint', 'polymul', 'polynomial', 'polysub', 'polyval', 'positive', 'power', 'printoptions', 'prod', 'product', 'promote_types', 'ptp', 'put', 'put_along_axis', 'putmask', 'quantile', 'r_', 'rad2deg', 'radians', 'random', 'ravel', 'ravel_multi_index', 'real', 'real_if_close', 'rec', 'recarray', 'recfromcsv', 'recfromtxt', 'reciprocal', 'record', 'remainder', 'repeat', 'require', 'reshape', 'resize', 'result_type', 'right_shift', 'rint', 'roll', 'rollaxis', 'roots', 'rot90', 'round', 'round_', 'row_stack', 's_', 'safe_eval', 'save', 'savetxt', 'savez', 'savez_compressed', 'sctype2char', 'sctypeDict', 'sctypes', 'searchsorted', 'select', 'set_numeric_ops', 'set_printoptions', 'set_string_function', 'setbufsize', 'setdiff1d', 'seterr', 'seterrcall', 'seterrobj', 'setxor1d', 'shape', 'shares_memory', 'short', 'show_config', 'show_runtime', 'sign', 'signbit', 'signedinteger', 'sin', 'sinc', 'single', 'singlecomplex', 'sinh', 'size', 'sometrue', 'sort', 'sort_complex', 'source', 'spacing', 'split', 'sqrt', 'square', 'squeeze', 'stack', 'std', 'str_', 'string_', 'subtract', 'sum', 'swapaxes', 'take', 'take_along_axis', 'tan', 'tanh', 'tensordot', 'test', 'testing', 'tile', 'timedelta64', 'trace', 'tracemalloc_domain', 'transpose', 'trapz', 'tri', 'tril', 'tril_indices', 'tril_indices_from', 'trim_zeros', 'triu', 'triu_indices', 'triu_indices_from', 'true_divide', 'trunc', 'typecodes', 'typename', 'ubyte', 'ufunc', 'uint', 'uint16', 'uint32', 'uint64', 'uint8', 'uintc', 'uintp', 'ulonglong', 'unicode_', 'union1d', 'unique', 'unpackbits', 'unravel_index', 'unsignedinteger', 'unwrap', 'ushort', 'vander', 'var', 'vdot', 'vectorize', 'version', 'void', 'vsplit', 'vstack', 'where', 'who', 'zeros', 'zeros_like']\n"
     ]
    }
   ],
   "source": [
    "import numpy\n",
    "print(numpy.__version__)  # Should display a version in the range >=1.26.4,<2.0.0\n",
    "print(dir(numpy))        # Ensure 'rec' is listed in the output"
   ]
  },
  {
   "cell_type": "code",
   "execution_count": null,
   "metadata": {},
   "outputs": [],
   "source": [
    "embeddings = HuggingFaceEmbeddings(model_name='sentence-transformers/all-MiniLM-L6-v2')\n"
   ]
  },
  {
   "cell_type": "code",
   "execution_count": null,
   "metadata": {},
   "outputs": [
    {
     "name": "stdout",
     "output_type": "stream",
     "text": [
      "Requirement already satisfied: jupyter in e:\\anaconda\\envs\\elarova\\lib\\site-packages (1.1.1)\n",
      "Requirement already satisfied: ipywidgets in e:\\anaconda\\envs\\elarova\\lib\\site-packages (8.1.5)\n",
      "Requirement already satisfied: notebook in e:\\anaconda\\envs\\elarova\\lib\\site-packages (from jupyter) (7.3.2)\n",
      "Requirement already satisfied: jupyter-console in e:\\anaconda\\envs\\elarova\\lib\\site-packages (from jupyter) (6.6.3)\n",
      "Requirement already satisfied: nbconvert in e:\\anaconda\\envs\\elarova\\lib\\site-packages (from jupyter) (7.16.6)\n",
      "Requirement already satisfied: ipykernel in e:\\anaconda\\envs\\elarova\\lib\\site-packages (from jupyter) (6.29.5)\n",
      "Requirement already satisfied: jupyterlab in e:\\anaconda\\envs\\elarova\\lib\\site-packages (from jupyter) (4.3.5)\n",
      "Requirement already satisfied: comm>=0.1.3 in e:\\anaconda\\envs\\elarova\\lib\\site-packages (from ipywidgets) (0.2.2)\n",
      "Requirement already satisfied: ipython>=6.1.0 in e:\\anaconda\\envs\\elarova\\lib\\site-packages (from ipywidgets) (8.34.0)\n",
      "Requirement already satisfied: traitlets>=4.3.1 in e:\\anaconda\\envs\\elarova\\lib\\site-packages (from ipywidgets) (5.14.3)\n",
      "Requirement already satisfied: widgetsnbextension~=4.0.12 in e:\\anaconda\\envs\\elarova\\lib\\site-packages (from ipywidgets) (4.0.13)\n",
      "Requirement already satisfied: jupyterlab-widgets~=3.0.12 in e:\\anaconda\\envs\\elarova\\lib\\site-packages (from ipywidgets) (3.0.13)\n",
      "Requirement already satisfied: colorama in e:\\anaconda\\envs\\elarova\\lib\\site-packages (from ipython>=6.1.0->ipywidgets) (0.4.6)\n",
      "Requirement already satisfied: decorator in e:\\anaconda\\envs\\elarova\\lib\\site-packages (from ipython>=6.1.0->ipywidgets) (5.2.1)\n",
      "Requirement already satisfied: exceptiongroup in e:\\anaconda\\envs\\elarova\\lib\\site-packages (from ipython>=6.1.0->ipywidgets) (1.2.2)\n",
      "Requirement already satisfied: jedi>=0.16 in e:\\anaconda\\envs\\elarova\\lib\\site-packages (from ipython>=6.1.0->ipywidgets) (0.19.2)\n",
      "Requirement already satisfied: matplotlib-inline in e:\\anaconda\\envs\\elarova\\lib\\site-packages (from ipython>=6.1.0->ipywidgets) (0.1.7)\n",
      "Requirement already satisfied: prompt_toolkit<3.1.0,>=3.0.41 in e:\\anaconda\\envs\\elarova\\lib\\site-packages (from ipython>=6.1.0->ipywidgets) (3.0.50)\n",
      "Requirement already satisfied: pygments>=2.4.0 in e:\\anaconda\\envs\\elarova\\lib\\site-packages (from ipython>=6.1.0->ipywidgets) (2.19.1)\n",
      "Requirement already satisfied: stack_data in e:\\anaconda\\envs\\elarova\\lib\\site-packages (from ipython>=6.1.0->ipywidgets) (0.6.3)\n",
      "Requirement already satisfied: typing_extensions>=4.6 in e:\\anaconda\\envs\\elarova\\lib\\site-packages (from ipython>=6.1.0->ipywidgets) (4.12.2)\n",
      "Requirement already satisfied: debugpy>=1.6.5 in e:\\anaconda\\envs\\elarova\\lib\\site-packages (from ipykernel->jupyter) (1.8.13)\n",
      "Requirement already satisfied: jupyter-client>=6.1.12 in e:\\anaconda\\envs\\elarova\\lib\\site-packages (from ipykernel->jupyter) (8.6.3)\n",
      "Requirement already satisfied: jupyter-core!=5.0.*,>=4.12 in e:\\anaconda\\envs\\elarova\\lib\\site-packages (from ipykernel->jupyter) (5.7.2)\n",
      "Requirement already satisfied: nest-asyncio in e:\\anaconda\\envs\\elarova\\lib\\site-packages (from ipykernel->jupyter) (1.6.0)\n",
      "Requirement already satisfied: packaging in e:\\anaconda\\envs\\elarova\\lib\\site-packages (from ipykernel->jupyter) (24.2)\n",
      "Requirement already satisfied: psutil in e:\\anaconda\\envs\\elarova\\lib\\site-packages (from ipykernel->jupyter) (7.0.0)\n",
      "Requirement already satisfied: pyzmq>=24 in e:\\anaconda\\envs\\elarova\\lib\\site-packages (from ipykernel->jupyter) (26.3.0)\n",
      "Requirement already satisfied: tornado>=6.1 in e:\\anaconda\\envs\\elarova\\lib\\site-packages (from ipykernel->jupyter) (6.4.2)\n",
      "Requirement already satisfied: async-lru>=1.0.0 in e:\\anaconda\\envs\\elarova\\lib\\site-packages (from jupyterlab->jupyter) (2.0.4)\n",
      "Requirement already satisfied: httpx>=0.25.0 in e:\\anaconda\\envs\\elarova\\lib\\site-packages (from jupyterlab->jupyter) (0.28.1)\n",
      "Requirement already satisfied: jinja2>=3.0.3 in e:\\anaconda\\envs\\elarova\\lib\\site-packages (from jupyterlab->jupyter) (3.1.6)\n",
      "Requirement already satisfied: jupyter-lsp>=2.0.0 in e:\\anaconda\\envs\\elarova\\lib\\site-packages (from jupyterlab->jupyter) (2.2.5)\n",
      "Requirement already satisfied: jupyter-server<3,>=2.4.0 in e:\\anaconda\\envs\\elarova\\lib\\site-packages (from jupyterlab->jupyter) (2.15.0)\n",
      "Requirement already satisfied: jupyterlab-server<3,>=2.27.1 in e:\\anaconda\\envs\\elarova\\lib\\site-packages (from jupyterlab->jupyter) (2.27.3)\n",
      "Requirement already satisfied: notebook-shim>=0.2 in e:\\anaconda\\envs\\elarova\\lib\\site-packages (from jupyterlab->jupyter) (0.2.4)\n",
      "Requirement already satisfied: setuptools>=40.8.0 in e:\\anaconda\\envs\\elarova\\lib\\site-packages (from jupyterlab->jupyter) (75.8.0)\n",
      "Requirement already satisfied: tomli>=1.2.2 in e:\\anaconda\\envs\\elarova\\lib\\site-packages (from jupyterlab->jupyter) (2.2.1)\n",
      "Requirement already satisfied: beautifulsoup4 in e:\\anaconda\\envs\\elarova\\lib\\site-packages (from nbconvert->jupyter) (4.13.3)\n",
      "Requirement already satisfied: bleach!=5.0.0 in e:\\anaconda\\envs\\elarova\\lib\\site-packages (from bleach[css]!=5.0.0->nbconvert->jupyter) (6.2.0)\n",
      "Requirement already satisfied: defusedxml in e:\\anaconda\\envs\\elarova\\lib\\site-packages (from nbconvert->jupyter) (0.7.1)\n",
      "Requirement already satisfied: jupyterlab-pygments in e:\\anaconda\\envs\\elarova\\lib\\site-packages (from nbconvert->jupyter) (0.3.0)\n",
      "Requirement already satisfied: markupsafe>=2.0 in e:\\anaconda\\envs\\elarova\\lib\\site-packages (from nbconvert->jupyter) (3.0.2)\n",
      "Requirement already satisfied: mistune<4,>=2.0.3 in e:\\anaconda\\envs\\elarova\\lib\\site-packages (from nbconvert->jupyter) (3.1.2)\n",
      "Requirement already satisfied: nbclient>=0.5.0 in e:\\anaconda\\envs\\elarova\\lib\\site-packages (from nbconvert->jupyter) (0.10.2)\n",
      "Requirement already satisfied: nbformat>=5.7 in e:\\anaconda\\envs\\elarova\\lib\\site-packages (from nbconvert->jupyter) (5.10.4)\n",
      "Requirement already satisfied: pandocfilters>=1.4.1 in e:\\anaconda\\envs\\elarova\\lib\\site-packages (from nbconvert->jupyter) (1.5.1)\n",
      "Requirement already satisfied: webencodings in e:\\anaconda\\envs\\elarova\\lib\\site-packages (from bleach!=5.0.0->bleach[css]!=5.0.0->nbconvert->jupyter) (0.5.1)\n",
      "Requirement already satisfied: tinycss2<1.5,>=1.1.0 in e:\\anaconda\\envs\\elarova\\lib\\site-packages (from bleach[css]!=5.0.0->nbconvert->jupyter) (1.4.0)\n",
      "Requirement already satisfied: anyio in e:\\anaconda\\envs\\elarova\\lib\\site-packages (from httpx>=0.25.0->jupyterlab->jupyter) (4.8.0)\n",
      "Requirement already satisfied: certifi in e:\\anaconda\\envs\\elarova\\lib\\site-packages (from httpx>=0.25.0->jupyterlab->jupyter) (2025.1.31)\n",
      "Requirement already satisfied: httpcore==1.* in e:\\anaconda\\envs\\elarova\\lib\\site-packages (from httpx>=0.25.0->jupyterlab->jupyter) (1.0.7)\n",
      "Requirement already satisfied: idna in e:\\anaconda\\envs\\elarova\\lib\\site-packages (from httpx>=0.25.0->jupyterlab->jupyter) (3.10)\n",
      "Requirement already satisfied: h11<0.15,>=0.13 in e:\\anaconda\\envs\\elarova\\lib\\site-packages (from httpcore==1.*->httpx>=0.25.0->jupyterlab->jupyter) (0.14.0)\n",
      "Requirement already satisfied: parso<0.9.0,>=0.8.4 in e:\\anaconda\\envs\\elarova\\lib\\site-packages (from jedi>=0.16->ipython>=6.1.0->ipywidgets) (0.8.4)\n",
      "Requirement already satisfied: python-dateutil>=2.8.2 in e:\\anaconda\\envs\\elarova\\lib\\site-packages (from jupyter-client>=6.1.12->ipykernel->jupyter) (2.9.0.post0)\n",
      "Requirement already satisfied: platformdirs>=2.5 in e:\\anaconda\\envs\\elarova\\lib\\site-packages (from jupyter-core!=5.0.*,>=4.12->ipykernel->jupyter) (4.3.6)\n",
      "Requirement already satisfied: pywin32>=300 in e:\\anaconda\\envs\\elarova\\lib\\site-packages (from jupyter-core!=5.0.*,>=4.12->ipykernel->jupyter) (307)\n",
      "Requirement already satisfied: argon2-cffi>=21.1 in e:\\anaconda\\envs\\elarova\\lib\\site-packages (from jupyter-server<3,>=2.4.0->jupyterlab->jupyter) (23.1.0)\n",
      "Requirement already satisfied: jupyter-events>=0.11.0 in e:\\anaconda\\envs\\elarova\\lib\\site-packages (from jupyter-server<3,>=2.4.0->jupyterlab->jupyter) (0.12.0)\n",
      "Requirement already satisfied: jupyter-server-terminals>=0.4.4 in e:\\anaconda\\envs\\elarova\\lib\\site-packages (from jupyter-server<3,>=2.4.0->jupyterlab->jupyter) (0.5.3)\n",
      "Requirement already satisfied: overrides>=5.0 in e:\\anaconda\\envs\\elarova\\lib\\site-packages (from jupyter-server<3,>=2.4.0->jupyterlab->jupyter) (7.7.0)\n",
      "Requirement already satisfied: prometheus-client>=0.9 in e:\\anaconda\\envs\\elarova\\lib\\site-packages (from jupyter-server<3,>=2.4.0->jupyterlab->jupyter) (0.21.1)\n",
      "Requirement already satisfied: pywinpty>=2.0.1 in e:\\anaconda\\envs\\elarova\\lib\\site-packages (from jupyter-server<3,>=2.4.0->jupyterlab->jupyter) (2.0.15)\n",
      "Requirement already satisfied: send2trash>=1.8.2 in e:\\anaconda\\envs\\elarova\\lib\\site-packages (from jupyter-server<3,>=2.4.0->jupyterlab->jupyter) (1.8.3)\n",
      "Requirement already satisfied: terminado>=0.8.3 in e:\\anaconda\\envs\\elarova\\lib\\site-packages (from jupyter-server<3,>=2.4.0->jupyterlab->jupyter) (0.18.1)\n",
      "Requirement already satisfied: websocket-client>=1.7 in e:\\anaconda\\envs\\elarova\\lib\\site-packages (from jupyter-server<3,>=2.4.0->jupyterlab->jupyter) (1.8.0)\n",
      "Requirement already satisfied: babel>=2.10 in e:\\anaconda\\envs\\elarova\\lib\\site-packages (from jupyterlab-server<3,>=2.27.1->jupyterlab->jupyter) (2.17.0)\n",
      "Requirement already satisfied: json5>=0.9.0 in e:\\anaconda\\envs\\elarova\\lib\\site-packages (from jupyterlab-server<3,>=2.27.1->jupyterlab->jupyter) (0.10.0)\n",
      "Requirement already satisfied: jsonschema>=4.18.0 in e:\\anaconda\\envs\\elarova\\lib\\site-packages (from jupyterlab-server<3,>=2.27.1->jupyterlab->jupyter) (4.23.0)\n",
      "Requirement already satisfied: requests>=2.31 in e:\\anaconda\\envs\\elarova\\lib\\site-packages (from jupyterlab-server<3,>=2.27.1->jupyterlab->jupyter) (2.32.3)\n",
      "Requirement already satisfied: fastjsonschema>=2.15 in e:\\anaconda\\envs\\elarova\\lib\\site-packages (from nbformat>=5.7->nbconvert->jupyter) (2.21.1)\n",
      "Requirement already satisfied: wcwidth in e:\\anaconda\\envs\\elarova\\lib\\site-packages (from prompt_toolkit<3.1.0,>=3.0.41->ipython>=6.1.0->ipywidgets) (0.2.13)\n",
      "Requirement already satisfied: soupsieve>1.2 in e:\\anaconda\\envs\\elarova\\lib\\site-packages (from beautifulsoup4->nbconvert->jupyter) (2.6)\n",
      "Requirement already satisfied: executing>=1.2.0 in e:\\anaconda\\envs\\elarova\\lib\\site-packages (from stack_data->ipython>=6.1.0->ipywidgets) (2.1.0)\n",
      "Requirement already satisfied: asttokens>=2.1.0 in e:\\anaconda\\envs\\elarova\\lib\\site-packages (from stack_data->ipython>=6.1.0->ipywidgets) (3.0.0)\n",
      "Requirement already satisfied: pure_eval in e:\\anaconda\\envs\\elarova\\lib\\site-packages (from stack_data->ipython>=6.1.0->ipywidgets) (0.2.3)\n",
      "Requirement already satisfied: sniffio>=1.1 in e:\\anaconda\\envs\\elarova\\lib\\site-packages (from anyio->httpx>=0.25.0->jupyterlab->jupyter) (1.3.1)\n",
      "Requirement already satisfied: argon2-cffi-bindings in e:\\anaconda\\envs\\elarova\\lib\\site-packages (from argon2-cffi>=21.1->jupyter-server<3,>=2.4.0->jupyterlab->jupyter) (21.2.0)\n",
      "Requirement already satisfied: attrs>=22.2.0 in e:\\anaconda\\envs\\elarova\\lib\\site-packages (from jsonschema>=4.18.0->jupyterlab-server<3,>=2.27.1->jupyterlab->jupyter) (25.3.0)\n",
      "Requirement already satisfied: jsonschema-specifications>=2023.03.6 in e:\\anaconda\\envs\\elarova\\lib\\site-packages (from jsonschema>=4.18.0->jupyterlab-server<3,>=2.27.1->jupyterlab->jupyter) (2024.10.1)\n",
      "Requirement already satisfied: referencing>=0.28.4 in e:\\anaconda\\envs\\elarova\\lib\\site-packages (from jsonschema>=4.18.0->jupyterlab-server<3,>=2.27.1->jupyterlab->jupyter) (0.36.2)\n",
      "Requirement already satisfied: rpds-py>=0.7.1 in e:\\anaconda\\envs\\elarova\\lib\\site-packages (from jsonschema>=4.18.0->jupyterlab-server<3,>=2.27.1->jupyterlab->jupyter) (0.23.1)\n",
      "Requirement already satisfied: python-json-logger>=2.0.4 in e:\\anaconda\\envs\\elarova\\lib\\site-packages (from jupyter-events>=0.11.0->jupyter-server<3,>=2.4.0->jupyterlab->jupyter) (3.3.0)\n",
      "Requirement already satisfied: pyyaml>=5.3 in e:\\anaconda\\envs\\elarova\\lib\\site-packages (from jupyter-events>=0.11.0->jupyter-server<3,>=2.4.0->jupyterlab->jupyter) (6.0.2)\n",
      "Requirement already satisfied: rfc3339-validator in e:\\anaconda\\envs\\elarova\\lib\\site-packages (from jupyter-events>=0.11.0->jupyter-server<3,>=2.4.0->jupyterlab->jupyter) (0.1.4)\n",
      "Requirement already satisfied: rfc3986-validator>=0.1.1 in e:\\anaconda\\envs\\elarova\\lib\\site-packages (from jupyter-events>=0.11.0->jupyter-server<3,>=2.4.0->jupyterlab->jupyter) (0.1.1)\n",
      "Requirement already satisfied: six>=1.5 in e:\\anaconda\\envs\\elarova\\lib\\site-packages (from python-dateutil>=2.8.2->jupyter-client>=6.1.12->ipykernel->jupyter) (1.17.0)\n",
      "Requirement already satisfied: charset-normalizer<4,>=2 in e:\\anaconda\\envs\\elarova\\lib\\site-packages (from requests>=2.31->jupyterlab-server<3,>=2.27.1->jupyterlab->jupyter) (3.4.1)\n",
      "Requirement already satisfied: urllib3<3,>=1.21.1 in e:\\anaconda\\envs\\elarova\\lib\\site-packages (from requests>=2.31->jupyterlab-server<3,>=2.27.1->jupyterlab->jupyter) (2.3.0)\n",
      "Requirement already satisfied: fqdn in e:\\anaconda\\envs\\elarova\\lib\\site-packages (from jsonschema[format-nongpl]>=4.18.0->jupyter-events>=0.11.0->jupyter-server<3,>=2.4.0->jupyterlab->jupyter) (1.5.1)\n",
      "Requirement already satisfied: isoduration in e:\\anaconda\\envs\\elarova\\lib\\site-packages (from jsonschema[format-nongpl]>=4.18.0->jupyter-events>=0.11.0->jupyter-server<3,>=2.4.0->jupyterlab->jupyter) (20.11.0)\n",
      "Requirement already satisfied: jsonpointer>1.13 in e:\\anaconda\\envs\\elarova\\lib\\site-packages (from jsonschema[format-nongpl]>=4.18.0->jupyter-events>=0.11.0->jupyter-server<3,>=2.4.0->jupyterlab->jupyter) (3.0.0)\n",
      "Requirement already satisfied: uri-template in e:\\anaconda\\envs\\elarova\\lib\\site-packages (from jsonschema[format-nongpl]>=4.18.0->jupyter-events>=0.11.0->jupyter-server<3,>=2.4.0->jupyterlab->jupyter) (1.3.0)\n",
      "Requirement already satisfied: webcolors>=24.6.0 in e:\\anaconda\\envs\\elarova\\lib\\site-packages (from jsonschema[format-nongpl]>=4.18.0->jupyter-events>=0.11.0->jupyter-server<3,>=2.4.0->jupyterlab->jupyter) (24.11.1)\n",
      "Requirement already satisfied: cffi>=1.0.1 in e:\\anaconda\\envs\\elarova\\lib\\site-packages (from argon2-cffi-bindings->argon2-cffi>=21.1->jupyter-server<3,>=2.4.0->jupyterlab->jupyter) (1.17.1)\n",
      "Requirement already satisfied: pycparser in e:\\anaconda\\envs\\elarova\\lib\\site-packages (from cffi>=1.0.1->argon2-cffi-bindings->argon2-cffi>=21.1->jupyter-server<3,>=2.4.0->jupyterlab->jupyter) (2.22)\n",
      "Requirement already satisfied: arrow>=0.15.0 in e:\\anaconda\\envs\\elarova\\lib\\site-packages (from isoduration->jsonschema[format-nongpl]>=4.18.0->jupyter-events>=0.11.0->jupyter-server<3,>=2.4.0->jupyterlab->jupyter) (1.3.0)\n",
      "Requirement already satisfied: types-python-dateutil>=2.8.10 in e:\\anaconda\\envs\\elarova\\lib\\site-packages (from arrow>=0.15.0->isoduration->jsonschema[format-nongpl]>=4.18.0->jupyter-events>=0.11.0->jupyter-server<3,>=2.4.0->jupyterlab->jupyter) (2.9.0.20241206)\n",
      "Note: you may need to restart the kernel to use updated packages.\n"
     ]
    }
   ],
   "source": [
    "pip install --upgrade jupyter ipywidgets\n"
   ]
  },
  {
   "cell_type": "code",
   "execution_count": null,
   "metadata": {},
   "outputs": [
    {
     "name": "stdout",
     "output_type": "stream",
     "text": [
      "Requirement already satisfied: langchain-huggingface in e:\\anaconda\\envs\\elarova\\lib\\site-packages (0.1.2)\n",
      "Requirement already satisfied: jupyter in e:\\anaconda\\envs\\elarova\\lib\\site-packages (1.1.1)\n",
      "Requirement already satisfied: ipywidgets in e:\\anaconda\\envs\\elarova\\lib\\site-packages (8.1.5)\n",
      "Requirement already satisfied: huggingface-hub>=0.23.0 in e:\\anaconda\\envs\\elarova\\lib\\site-packages (from langchain-huggingface) (0.29.3)\n",
      "Requirement already satisfied: langchain-core<0.4.0,>=0.3.15 in e:\\anaconda\\envs\\elarova\\lib\\site-packages (from langchain-huggingface) (0.3.44)\n",
      "Requirement already satisfied: sentence-transformers>=2.6.0 in e:\\anaconda\\envs\\elarova\\lib\\site-packages (from langchain-huggingface) (3.4.1)\n",
      "Requirement already satisfied: tokenizers>=0.19.1 in e:\\anaconda\\envs\\elarova\\lib\\site-packages (from langchain-huggingface) (0.21.1)\n",
      "Requirement already satisfied: transformers>=4.39.0 in e:\\anaconda\\envs\\elarova\\lib\\site-packages (from langchain-huggingface) (4.49.0)\n",
      "Requirement already satisfied: notebook in e:\\anaconda\\envs\\elarova\\lib\\site-packages (from jupyter) (7.3.2)\n",
      "Requirement already satisfied: jupyter-console in e:\\anaconda\\envs\\elarova\\lib\\site-packages (from jupyter) (6.6.3)\n",
      "Requirement already satisfied: nbconvert in e:\\anaconda\\envs\\elarova\\lib\\site-packages (from jupyter) (7.16.6)\n",
      "Requirement already satisfied: ipykernel in e:\\anaconda\\envs\\elarova\\lib\\site-packages (from jupyter) (6.29.5)\n",
      "Requirement already satisfied: jupyterlab in e:\\anaconda\\envs\\elarova\\lib\\site-packages (from jupyter) (4.3.5)\n",
      "Requirement already satisfied: comm>=0.1.3 in e:\\anaconda\\envs\\elarova\\lib\\site-packages (from ipywidgets) (0.2.2)\n",
      "Requirement already satisfied: ipython>=6.1.0 in e:\\anaconda\\envs\\elarova\\lib\\site-packages (from ipywidgets) (8.34.0)\n",
      "Requirement already satisfied: traitlets>=4.3.1 in e:\\anaconda\\envs\\elarova\\lib\\site-packages (from ipywidgets) (5.14.3)\n",
      "Requirement already satisfied: widgetsnbextension~=4.0.12 in e:\\anaconda\\envs\\elarova\\lib\\site-packages (from ipywidgets) (4.0.13)\n",
      "Requirement already satisfied: jupyterlab-widgets~=3.0.12 in e:\\anaconda\\envs\\elarova\\lib\\site-packages (from ipywidgets) (3.0.13)\n",
      "Requirement already satisfied: filelock in e:\\anaconda\\envs\\elarova\\lib\\site-packages (from huggingface-hub>=0.23.0->langchain-huggingface) (3.17.0)\n",
      "Requirement already satisfied: fsspec>=2023.5.0 in e:\\anaconda\\envs\\elarova\\lib\\site-packages (from huggingface-hub>=0.23.0->langchain-huggingface) (2025.3.0)\n",
      "Requirement already satisfied: packaging>=20.9 in e:\\anaconda\\envs\\elarova\\lib\\site-packages (from huggingface-hub>=0.23.0->langchain-huggingface) (24.2)\n",
      "Requirement already satisfied: pyyaml>=5.1 in e:\\anaconda\\envs\\elarova\\lib\\site-packages (from huggingface-hub>=0.23.0->langchain-huggingface) (6.0.2)\n",
      "Requirement already satisfied: requests in e:\\anaconda\\envs\\elarova\\lib\\site-packages (from huggingface-hub>=0.23.0->langchain-huggingface) (2.32.3)\n",
      "Requirement already satisfied: tqdm>=4.42.1 in e:\\anaconda\\envs\\elarova\\lib\\site-packages (from huggingface-hub>=0.23.0->langchain-huggingface) (4.67.1)\n",
      "Requirement already satisfied: typing-extensions>=3.7.4.3 in e:\\anaconda\\envs\\elarova\\lib\\site-packages (from huggingface-hub>=0.23.0->langchain-huggingface) (4.12.2)\n",
      "Requirement already satisfied: colorama in e:\\anaconda\\envs\\elarova\\lib\\site-packages (from ipython>=6.1.0->ipywidgets) (0.4.6)\n",
      "Requirement already satisfied: decorator in e:\\anaconda\\envs\\elarova\\lib\\site-packages (from ipython>=6.1.0->ipywidgets) (5.2.1)\n",
      "Requirement already satisfied: exceptiongroup in e:\\anaconda\\envs\\elarova\\lib\\site-packages (from ipython>=6.1.0->ipywidgets) (1.2.2)\n",
      "Requirement already satisfied: jedi>=0.16 in e:\\anaconda\\envs\\elarova\\lib\\site-packages (from ipython>=6.1.0->ipywidgets) (0.19.2)\n",
      "Requirement already satisfied: matplotlib-inline in e:\\anaconda\\envs\\elarova\\lib\\site-packages (from ipython>=6.1.0->ipywidgets) (0.1.7)\n",
      "Requirement already satisfied: prompt_toolkit<3.1.0,>=3.0.41 in e:\\anaconda\\envs\\elarova\\lib\\site-packages (from ipython>=6.1.0->ipywidgets) (3.0.50)\n",
      "Requirement already satisfied: pygments>=2.4.0 in e:\\anaconda\\envs\\elarova\\lib\\site-packages (from ipython>=6.1.0->ipywidgets) (2.19.1)\n",
      "Requirement already satisfied: stack_data in e:\\anaconda\\envs\\elarova\\lib\\site-packages (from ipython>=6.1.0->ipywidgets) (0.6.3)\n",
      "Requirement already satisfied: langsmith<0.4,>=0.1.125 in e:\\anaconda\\envs\\elarova\\lib\\site-packages (from langchain-core<0.4.0,>=0.3.15->langchain-huggingface) (0.3.13)\n",
      "Requirement already satisfied: tenacity!=8.4.0,<10.0.0,>=8.1.0 in e:\\anaconda\\envs\\elarova\\lib\\site-packages (from langchain-core<0.4.0,>=0.3.15->langchain-huggingface) (9.0.0)\n",
      "Requirement already satisfied: jsonpatch<2.0,>=1.33 in e:\\anaconda\\envs\\elarova\\lib\\site-packages (from langchain-core<0.4.0,>=0.3.15->langchain-huggingface) (1.33)\n",
      "Requirement already satisfied: pydantic<3.0.0,>=2.5.2 in e:\\anaconda\\envs\\elarova\\lib\\site-packages (from langchain-core<0.4.0,>=0.3.15->langchain-huggingface) (2.10.6)\n",
      "Requirement already satisfied: torch>=1.11.0 in e:\\anaconda\\envs\\elarova\\lib\\site-packages (from sentence-transformers>=2.6.0->langchain-huggingface) (2.6.0)\n",
      "Requirement already satisfied: scikit-learn in e:\\anaconda\\envs\\elarova\\lib\\site-packages (from sentence-transformers>=2.6.0->langchain-huggingface) (1.6.1)\n",
      "Requirement already satisfied: scipy in e:\\anaconda\\envs\\elarova\\lib\\site-packages (from sentence-transformers>=2.6.0->langchain-huggingface) (1.15.2)\n",
      "Requirement already satisfied: Pillow in e:\\anaconda\\envs\\elarova\\lib\\site-packages (from sentence-transformers>=2.6.0->langchain-huggingface) (11.1.0)\n",
      "Requirement already satisfied: numpy>=1.17 in e:\\anaconda\\envs\\elarova\\lib\\site-packages (from transformers>=4.39.0->langchain-huggingface) (1.26.4)\n",
      "Requirement already satisfied: regex!=2019.12.17 in e:\\anaconda\\envs\\elarova\\lib\\site-packages (from transformers>=4.39.0->langchain-huggingface) (2024.11.6)\n",
      "Requirement already satisfied: safetensors>=0.4.1 in e:\\anaconda\\envs\\elarova\\lib\\site-packages (from transformers>=4.39.0->langchain-huggingface) (0.5.3)\n",
      "Requirement already satisfied: debugpy>=1.6.5 in e:\\anaconda\\envs\\elarova\\lib\\site-packages (from ipykernel->jupyter) (1.8.13)\n",
      "Requirement already satisfied: jupyter-client>=6.1.12 in e:\\anaconda\\envs\\elarova\\lib\\site-packages (from ipykernel->jupyter) (8.6.3)\n",
      "Requirement already satisfied: jupyter-core!=5.0.*,>=4.12 in e:\\anaconda\\envs\\elarova\\lib\\site-packages (from ipykernel->jupyter) (5.7.2)\n",
      "Requirement already satisfied: nest-asyncio in e:\\anaconda\\envs\\elarova\\lib\\site-packages (from ipykernel->jupyter) (1.6.0)\n",
      "Requirement already satisfied: psutil in e:\\anaconda\\envs\\elarova\\lib\\site-packages (from ipykernel->jupyter) (7.0.0)\n",
      "Requirement already satisfied: pyzmq>=24 in e:\\anaconda\\envs\\elarova\\lib\\site-packages (from ipykernel->jupyter) (26.3.0)\n",
      "Requirement already satisfied: tornado>=6.1 in e:\\anaconda\\envs\\elarova\\lib\\site-packages (from ipykernel->jupyter) (6.4.2)\n",
      "Requirement already satisfied: async-lru>=1.0.0 in e:\\anaconda\\envs\\elarova\\lib\\site-packages (from jupyterlab->jupyter) (2.0.4)\n",
      "Requirement already satisfied: httpx>=0.25.0 in e:\\anaconda\\envs\\elarova\\lib\\site-packages (from jupyterlab->jupyter) (0.28.1)\n",
      "Requirement already satisfied: jinja2>=3.0.3 in e:\\anaconda\\envs\\elarova\\lib\\site-packages (from jupyterlab->jupyter) (3.1.6)\n",
      "Requirement already satisfied: jupyter-lsp>=2.0.0 in e:\\anaconda\\envs\\elarova\\lib\\site-packages (from jupyterlab->jupyter) (2.2.5)\n",
      "Requirement already satisfied: jupyter-server<3,>=2.4.0 in e:\\anaconda\\envs\\elarova\\lib\\site-packages (from jupyterlab->jupyter) (2.15.0)\n",
      "Requirement already satisfied: jupyterlab-server<3,>=2.27.1 in e:\\anaconda\\envs\\elarova\\lib\\site-packages (from jupyterlab->jupyter) (2.27.3)\n",
      "Requirement already satisfied: notebook-shim>=0.2 in e:\\anaconda\\envs\\elarova\\lib\\site-packages (from jupyterlab->jupyter) (0.2.4)\n",
      "Requirement already satisfied: setuptools>=40.8.0 in e:\\anaconda\\envs\\elarova\\lib\\site-packages (from jupyterlab->jupyter) (75.8.0)\n",
      "Requirement already satisfied: tomli>=1.2.2 in e:\\anaconda\\envs\\elarova\\lib\\site-packages (from jupyterlab->jupyter) (2.2.1)\n",
      "Requirement already satisfied: beautifulsoup4 in e:\\anaconda\\envs\\elarova\\lib\\site-packages (from nbconvert->jupyter) (4.13.3)\n",
      "Requirement already satisfied: bleach!=5.0.0 in e:\\anaconda\\envs\\elarova\\lib\\site-packages (from bleach[css]!=5.0.0->nbconvert->jupyter) (6.2.0)\n",
      "Requirement already satisfied: defusedxml in e:\\anaconda\\envs\\elarova\\lib\\site-packages (from nbconvert->jupyter) (0.7.1)\n",
      "Requirement already satisfied: jupyterlab-pygments in e:\\anaconda\\envs\\elarova\\lib\\site-packages (from nbconvert->jupyter) (0.3.0)\n",
      "Requirement already satisfied: markupsafe>=2.0 in e:\\anaconda\\envs\\elarova\\lib\\site-packages (from nbconvert->jupyter) (3.0.2)\n",
      "Requirement already satisfied: mistune<4,>=2.0.3 in e:\\anaconda\\envs\\elarova\\lib\\site-packages (from nbconvert->jupyter) (3.1.2)\n",
      "Requirement already satisfied: nbclient>=0.5.0 in e:\\anaconda\\envs\\elarova\\lib\\site-packages (from nbconvert->jupyter) (0.10.2)\n",
      "Requirement already satisfied: nbformat>=5.7 in e:\\anaconda\\envs\\elarova\\lib\\site-packages (from nbconvert->jupyter) (5.10.4)\n",
      "Requirement already satisfied: pandocfilters>=1.4.1 in e:\\anaconda\\envs\\elarova\\lib\\site-packages (from nbconvert->jupyter) (1.5.1)\n",
      "Requirement already satisfied: webencodings in e:\\anaconda\\envs\\elarova\\lib\\site-packages (from bleach!=5.0.0->bleach[css]!=5.0.0->nbconvert->jupyter) (0.5.1)\n",
      "Requirement already satisfied: tinycss2<1.5,>=1.1.0 in e:\\anaconda\\envs\\elarova\\lib\\site-packages (from bleach[css]!=5.0.0->nbconvert->jupyter) (1.4.0)\n",
      "Requirement already satisfied: anyio in e:\\anaconda\\envs\\elarova\\lib\\site-packages (from httpx>=0.25.0->jupyterlab->jupyter) (4.8.0)\n",
      "Requirement already satisfied: certifi in e:\\anaconda\\envs\\elarova\\lib\\site-packages (from httpx>=0.25.0->jupyterlab->jupyter) (2025.1.31)\n",
      "Requirement already satisfied: httpcore==1.* in e:\\anaconda\\envs\\elarova\\lib\\site-packages (from httpx>=0.25.0->jupyterlab->jupyter) (1.0.7)\n",
      "Requirement already satisfied: idna in e:\\anaconda\\envs\\elarova\\lib\\site-packages (from httpx>=0.25.0->jupyterlab->jupyter) (3.10)\n",
      "Requirement already satisfied: h11<0.15,>=0.13 in e:\\anaconda\\envs\\elarova\\lib\\site-packages (from httpcore==1.*->httpx>=0.25.0->jupyterlab->jupyter) (0.14.0)\n",
      "Requirement already satisfied: parso<0.9.0,>=0.8.4 in e:\\anaconda\\envs\\elarova\\lib\\site-packages (from jedi>=0.16->ipython>=6.1.0->ipywidgets) (0.8.4)\n",
      "Requirement already satisfied: jsonpointer>=1.9 in e:\\anaconda\\envs\\elarova\\lib\\site-packages (from jsonpatch<2.0,>=1.33->langchain-core<0.4.0,>=0.3.15->langchain-huggingface) (3.0.0)\n",
      "Requirement already satisfied: python-dateutil>=2.8.2 in e:\\anaconda\\envs\\elarova\\lib\\site-packages (from jupyter-client>=6.1.12->ipykernel->jupyter) (2.9.0.post0)\n",
      "Requirement already satisfied: platformdirs>=2.5 in e:\\anaconda\\envs\\elarova\\lib\\site-packages (from jupyter-core!=5.0.*,>=4.12->ipykernel->jupyter) (4.3.6)\n",
      "Requirement already satisfied: pywin32>=300 in e:\\anaconda\\envs\\elarova\\lib\\site-packages (from jupyter-core!=5.0.*,>=4.12->ipykernel->jupyter) (307)\n",
      "Requirement already satisfied: argon2-cffi>=21.1 in e:\\anaconda\\envs\\elarova\\lib\\site-packages (from jupyter-server<3,>=2.4.0->jupyterlab->jupyter) (23.1.0)\n",
      "Requirement already satisfied: jupyter-events>=0.11.0 in e:\\anaconda\\envs\\elarova\\lib\\site-packages (from jupyter-server<3,>=2.4.0->jupyterlab->jupyter) (0.12.0)\n",
      "Requirement already satisfied: jupyter-server-terminals>=0.4.4 in e:\\anaconda\\envs\\elarova\\lib\\site-packages (from jupyter-server<3,>=2.4.0->jupyterlab->jupyter) (0.5.3)\n",
      "Requirement already satisfied: overrides>=5.0 in e:\\anaconda\\envs\\elarova\\lib\\site-packages (from jupyter-server<3,>=2.4.0->jupyterlab->jupyter) (7.7.0)\n",
      "Requirement already satisfied: prometheus-client>=0.9 in e:\\anaconda\\envs\\elarova\\lib\\site-packages (from jupyter-server<3,>=2.4.0->jupyterlab->jupyter) (0.21.1)\n",
      "Requirement already satisfied: pywinpty>=2.0.1 in e:\\anaconda\\envs\\elarova\\lib\\site-packages (from jupyter-server<3,>=2.4.0->jupyterlab->jupyter) (2.0.15)\n",
      "Requirement already satisfied: send2trash>=1.8.2 in e:\\anaconda\\envs\\elarova\\lib\\site-packages (from jupyter-server<3,>=2.4.0->jupyterlab->jupyter) (1.8.3)\n",
      "Requirement already satisfied: terminado>=0.8.3 in e:\\anaconda\\envs\\elarova\\lib\\site-packages (from jupyter-server<3,>=2.4.0->jupyterlab->jupyter) (0.18.1)\n",
      "Requirement already satisfied: websocket-client>=1.7 in e:\\anaconda\\envs\\elarova\\lib\\site-packages (from jupyter-server<3,>=2.4.0->jupyterlab->jupyter) (1.8.0)\n",
      "Requirement already satisfied: babel>=2.10 in e:\\anaconda\\envs\\elarova\\lib\\site-packages (from jupyterlab-server<3,>=2.27.1->jupyterlab->jupyter) (2.17.0)\n",
      "Requirement already satisfied: json5>=0.9.0 in e:\\anaconda\\envs\\elarova\\lib\\site-packages (from jupyterlab-server<3,>=2.27.1->jupyterlab->jupyter) (0.10.0)\n",
      "Requirement already satisfied: jsonschema>=4.18.0 in e:\\anaconda\\envs\\elarova\\lib\\site-packages (from jupyterlab-server<3,>=2.27.1->jupyterlab->jupyter) (4.23.0)\n",
      "Requirement already satisfied: orjson<4.0.0,>=3.9.14 in e:\\anaconda\\envs\\elarova\\lib\\site-packages (from langsmith<0.4,>=0.1.125->langchain-core<0.4.0,>=0.3.15->langchain-huggingface) (3.10.15)\n",
      "Requirement already satisfied: requests-toolbelt<2.0.0,>=1.0.0 in e:\\anaconda\\envs\\elarova\\lib\\site-packages (from langsmith<0.4,>=0.1.125->langchain-core<0.4.0,>=0.3.15->langchain-huggingface) (1.0.0)\n",
      "Requirement already satisfied: zstandard<0.24.0,>=0.23.0 in e:\\anaconda\\envs\\elarova\\lib\\site-packages (from langsmith<0.4,>=0.1.125->langchain-core<0.4.0,>=0.3.15->langchain-huggingface) (0.23.0)\n",
      "Requirement already satisfied: fastjsonschema>=2.15 in e:\\anaconda\\envs\\elarova\\lib\\site-packages (from nbformat>=5.7->nbconvert->jupyter) (2.21.1)\n",
      "Requirement already satisfied: wcwidth in e:\\anaconda\\envs\\elarova\\lib\\site-packages (from prompt_toolkit<3.1.0,>=3.0.41->ipython>=6.1.0->ipywidgets) (0.2.13)\n",
      "Requirement already satisfied: annotated-types>=0.6.0 in e:\\anaconda\\envs\\elarova\\lib\\site-packages (from pydantic<3.0.0,>=2.5.2->langchain-core<0.4.0,>=0.3.15->langchain-huggingface) (0.7.0)\n",
      "Requirement already satisfied: pydantic-core==2.27.2 in e:\\anaconda\\envs\\elarova\\lib\\site-packages (from pydantic<3.0.0,>=2.5.2->langchain-core<0.4.0,>=0.3.15->langchain-huggingface) (2.27.2)\n",
      "Requirement already satisfied: charset-normalizer<4,>=2 in e:\\anaconda\\envs\\elarova\\lib\\site-packages (from requests->huggingface-hub>=0.23.0->langchain-huggingface) (3.4.1)\n",
      "Requirement already satisfied: urllib3<3,>=1.21.1 in e:\\anaconda\\envs\\elarova\\lib\\site-packages (from requests->huggingface-hub>=0.23.0->langchain-huggingface) (2.3.0)\n",
      "Requirement already satisfied: networkx in e:\\anaconda\\envs\\elarova\\lib\\site-packages (from torch>=1.11.0->sentence-transformers>=2.6.0->langchain-huggingface) (3.4.2)\n",
      "Requirement already satisfied: sympy==1.13.1 in e:\\anaconda\\envs\\elarova\\lib\\site-packages (from torch>=1.11.0->sentence-transformers>=2.6.0->langchain-huggingface) (1.13.1)\n",
      "Requirement already satisfied: mpmath<1.4,>=1.1.0 in e:\\anaconda\\envs\\elarova\\lib\\site-packages (from sympy==1.13.1->torch>=1.11.0->sentence-transformers>=2.6.0->langchain-huggingface) (1.3.0)\n",
      "Requirement already satisfied: soupsieve>1.2 in e:\\anaconda\\envs\\elarova\\lib\\site-packages (from beautifulsoup4->nbconvert->jupyter) (2.6)\n",
      "Requirement already satisfied: joblib>=1.2.0 in e:\\anaconda\\envs\\elarova\\lib\\site-packages (from scikit-learn->sentence-transformers>=2.6.0->langchain-huggingface) (1.4.2)\n",
      "Requirement already satisfied: threadpoolctl>=3.1.0 in e:\\anaconda\\envs\\elarova\\lib\\site-packages (from scikit-learn->sentence-transformers>=2.6.0->langchain-huggingface) (3.6.0)\n",
      "Requirement already satisfied: executing>=1.2.0 in e:\\anaconda\\envs\\elarova\\lib\\site-packages (from stack_data->ipython>=6.1.0->ipywidgets) (2.1.0)\n",
      "Requirement already satisfied: asttokens>=2.1.0 in e:\\anaconda\\envs\\elarova\\lib\\site-packages (from stack_data->ipython>=6.1.0->ipywidgets) (3.0.0)\n",
      "Requirement already satisfied: pure_eval in e:\\anaconda\\envs\\elarova\\lib\\site-packages (from stack_data->ipython>=6.1.0->ipywidgets) (0.2.3)\n",
      "Requirement already satisfied: sniffio>=1.1 in e:\\anaconda\\envs\\elarova\\lib\\site-packages (from anyio->httpx>=0.25.0->jupyterlab->jupyter) (1.3.1)\n",
      "Requirement already satisfied: argon2-cffi-bindings in e:\\anaconda\\envs\\elarova\\lib\\site-packages (from argon2-cffi>=21.1->jupyter-server<3,>=2.4.0->jupyterlab->jupyter) (21.2.0)\n",
      "Requirement already satisfied: attrs>=22.2.0 in e:\\anaconda\\envs\\elarova\\lib\\site-packages (from jsonschema>=4.18.0->jupyterlab-server<3,>=2.27.1->jupyterlab->jupyter) (25.3.0)\n",
      "Requirement already satisfied: jsonschema-specifications>=2023.03.6 in e:\\anaconda\\envs\\elarova\\lib\\site-packages (from jsonschema>=4.18.0->jupyterlab-server<3,>=2.27.1->jupyterlab->jupyter) (2024.10.1)\n",
      "Requirement already satisfied: referencing>=0.28.4 in e:\\anaconda\\envs\\elarova\\lib\\site-packages (from jsonschema>=4.18.0->jupyterlab-server<3,>=2.27.1->jupyterlab->jupyter) (0.36.2)\n",
      "Requirement already satisfied: rpds-py>=0.7.1 in e:\\anaconda\\envs\\elarova\\lib\\site-packages (from jsonschema>=4.18.0->jupyterlab-server<3,>=2.27.1->jupyterlab->jupyter) (0.23.1)\n",
      "Requirement already satisfied: python-json-logger>=2.0.4 in e:\\anaconda\\envs\\elarova\\lib\\site-packages (from jupyter-events>=0.11.0->jupyter-server<3,>=2.4.0->jupyterlab->jupyter) (3.3.0)\n",
      "Requirement already satisfied: rfc3339-validator in e:\\anaconda\\envs\\elarova\\lib\\site-packages (from jupyter-events>=0.11.0->jupyter-server<3,>=2.4.0->jupyterlab->jupyter) (0.1.4)\n",
      "Requirement already satisfied: rfc3986-validator>=0.1.1 in e:\\anaconda\\envs\\elarova\\lib\\site-packages (from jupyter-events>=0.11.0->jupyter-server<3,>=2.4.0->jupyterlab->jupyter) (0.1.1)\n",
      "Requirement already satisfied: six>=1.5 in e:\\anaconda\\envs\\elarova\\lib\\site-packages (from python-dateutil>=2.8.2->jupyter-client>=6.1.12->ipykernel->jupyter) (1.17.0)\n",
      "Requirement already satisfied: fqdn in e:\\anaconda\\envs\\elarova\\lib\\site-packages (from jsonschema[format-nongpl]>=4.18.0->jupyter-events>=0.11.0->jupyter-server<3,>=2.4.0->jupyterlab->jupyter) (1.5.1)\n",
      "Requirement already satisfied: isoduration in e:\\anaconda\\envs\\elarova\\lib\\site-packages (from jsonschema[format-nongpl]>=4.18.0->jupyter-events>=0.11.0->jupyter-server<3,>=2.4.0->jupyterlab->jupyter) (20.11.0)\n",
      "Requirement already satisfied: uri-template in e:\\anaconda\\envs\\elarova\\lib\\site-packages (from jsonschema[format-nongpl]>=4.18.0->jupyter-events>=0.11.0->jupyter-server<3,>=2.4.0->jupyterlab->jupyter) (1.3.0)\n",
      "Requirement already satisfied: webcolors>=24.6.0 in e:\\anaconda\\envs\\elarova\\lib\\site-packages (from jsonschema[format-nongpl]>=4.18.0->jupyter-events>=0.11.0->jupyter-server<3,>=2.4.0->jupyterlab->jupyter) (24.11.1)\n",
      "Requirement already satisfied: cffi>=1.0.1 in e:\\anaconda\\envs\\elarova\\lib\\site-packages (from argon2-cffi-bindings->argon2-cffi>=21.1->jupyter-server<3,>=2.4.0->jupyterlab->jupyter) (1.17.1)\n",
      "Requirement already satisfied: pycparser in e:\\anaconda\\envs\\elarova\\lib\\site-packages (from cffi>=1.0.1->argon2-cffi-bindings->argon2-cffi>=21.1->jupyter-server<3,>=2.4.0->jupyterlab->jupyter) (2.22)\n",
      "Requirement already satisfied: arrow>=0.15.0 in e:\\anaconda\\envs\\elarova\\lib\\site-packages (from isoduration->jsonschema[format-nongpl]>=4.18.0->jupyter-events>=0.11.0->jupyter-server<3,>=2.4.0->jupyterlab->jupyter) (1.3.0)\n",
      "Requirement already satisfied: types-python-dateutil>=2.8.10 in e:\\anaconda\\envs\\elarova\\lib\\site-packages (from arrow>=0.15.0->isoduration->jsonschema[format-nongpl]>=4.18.0->jupyter-events>=0.11.0->jupyter-server<3,>=2.4.0->jupyterlab->jupyter) (2.9.0.20241206)\n",
      "Note: you may need to restart the kernel to use updated packages.\n"
     ]
    }
   ],
   "source": [
    "pip install -U langchain-huggingface jupyter ipywidgets\n"
   ]
  },
  {
   "cell_type": "code",
   "execution_count": null,
   "metadata": {},
   "outputs": [],
   "source": [
    "from langchain_huggingface import HuggingFaceEmbeddings\n",
    "embeddings = HuggingFaceEmbeddings(model_name='sentence-transformers/all-MiniLM-L6-v2')\n"
   ]
  },
  {
   "cell_type": "code",
   "execution_count": null,
   "metadata": {},
   "outputs": [],
   "source": [
    "import os\n",
    "os.environ[\"HF_HUB_DISABLE_SYMLINKS_WARNING\"] = \"1\"\n"
   ]
  },
  {
   "cell_type": "code",
   "execution_count": null,
   "metadata": {},
   "outputs": [
    {
     "name": "stdout",
     "output_type": "stream",
     "text": [
      "Embedding shape: (384,)\n",
      "First 5 values: [0.08429645 0.0579537  0.00449338 0.10582107 0.00708338]\n"
     ]
    }
   ],
   "source": [
    "from sentence_transformers import SentenceTransformer\n",
    "\n",
    "# Load the embedding model\n",
    "model = SentenceTransformer(\"sentence-transformers/all-MiniLM-L6-v2\")\n",
    "\n",
    "# Example: Encode a sentence\n",
    "embedding = model.encode(\"This is a test sentence.\")\n",
    "\n",
    "print(\"Embedding shape:\", embedding.shape)\n",
    "print(\"First 5 values:\", embedding[:5])\n"
   ]
  },
  {
   "cell_type": "code",
   "execution_count": null,
   "metadata": {},
   "outputs": [
    {
     "ename": "NameError",
     "evalue": "name 'download_hugging_face_embeddings' is not defined",
     "output_type": "error",
     "traceback": [
      "\u001b[1;31m---------------------------------------------------------------------------\u001b[0m",
      "\u001b[1;31mNameError\u001b[0m                                 Traceback (most recent call last)",
      "Cell \u001b[1;32mIn[2], line 1\u001b[0m\n\u001b[1;32m----> 1\u001b[0m embeddings \u001b[38;5;241m=\u001b[39m \u001b[43mdownload_hugging_face_embeddings\u001b[49m()\n",
      "\u001b[1;31mNameError\u001b[0m: name 'download_hugging_face_embeddings' is not defined"
     ]
    }
   ],
   "source": [
    "embeddings = download_hugging_face_embeddings()"
   ]
  },
  {
   "cell_type": "code",
   "execution_count": null,
   "metadata": {},
   "outputs": [
    {
     "ename": "AttributeError",
     "evalue": "'numpy.ndarray' object has no attribute 'embed_query'",
     "output_type": "error",
     "traceback": [
      "\u001b[1;31m---------------------------------------------------------------------------\u001b[0m",
      "\u001b[1;31mAttributeError\u001b[0m                            Traceback (most recent call last)",
      "Cell \u001b[1;32mIn[20], line 1\u001b[0m\n\u001b[1;32m----> 1\u001b[0m query_result \u001b[38;5;241m=\u001b[39m \u001b[43membeddings\u001b[49m\u001b[38;5;241;43m.\u001b[39;49m\u001b[43membed_query\u001b[49m(\u001b[38;5;124m\"\u001b[39m\u001b[38;5;124mHello World\u001b[39m\u001b[38;5;124m\"\u001b[39m)\n\u001b[0;32m      2\u001b[0m \u001b[38;5;28mprint\u001b[39m(\u001b[38;5;124m\"\u001b[39m\u001b[38;5;124mLength\u001b[39m\u001b[38;5;124m\"\u001b[39m, \u001b[38;5;28mlen\u001b[39m(query_result))\n",
      "\u001b[1;31mAttributeError\u001b[0m: 'numpy.ndarray' object has no attribute 'embed_query'"
     ]
    }
   ],
   "source": [
    "query_result = embeddings.embed_query(\"Hello World\")\n",
    "print(\"Length\", len(query_result))"
   ]
  },
  {
   "cell_type": "code",
   "execution_count": null,
   "metadata": {},
   "outputs": [
    {
     "data": {
      "text/plain": [
       "[-0.010300828143954277,\n",
       " 0.18307934701442719,\n",
       " 0.030811281874775887,\n",
       " 0.004452868364751339,\n",
       " -0.027336159721016884,\n",
       " -0.0335625596344471,\n",
       " 0.03763158619403839,\n",
       " -0.03157338127493858,\n",
       " -0.0033909634221345186,\n",
       " -0.008950830437242985,\n",
       " 0.03803609684109688,\n",
       " -0.051291048526763916,\n",
       " 0.00036826470750384033,\n",
       " -0.02372710593044758,\n",
       " 0.09271029382944107,\n",
       " -0.02779584378004074,\n",
       " -0.03515247628092766,\n",
       " -0.0032241714652627707,\n",
       " -0.0768178328871727,\n",
       " -0.057612095028162,\n",
       " 0.07257598638534546,\n",
       " 0.11128553748130798,\n",
       " 0.01605852320790291,\n",
       " 0.01590849459171295,\n",
       " -0.0823269784450531,\n",
       " 0.007007323205471039,\n",
       " 0.029013115912675858,\n",
       " 0.0011386671103537083,\n",
       " 0.11671741306781769,\n",
       " -0.032327406108379364,\n",
       " -0.03227165341377258,\n",
       " -0.0012590623227879405,\n",
       " 0.10591620206832886,\n",
       " 0.023600773885846138,\n",
       " 0.00966486893594265,\n",
       " 0.09834077209234238,\n",
       " 0.04293639212846756,\n",
       " -0.019547687843441963,\n",
       " 0.01926792599260807,\n",
       " -0.06417104601860046,\n",
       " 0.023923387750983238,\n",
       " -0.05287997052073479,\n",
       " -0.026469580829143524,\n",
       " 0.005548726301640272,\n",
       " -0.017025155946612358,\n",
       " -0.030232694000005722,\n",
       " -0.09035330265760422,\n",
       " 0.05418829619884491,\n",
       " 0.03278333321213722,\n",
       " -0.03849181532859802,\n",
       " -0.162909597158432,\n",
       " -0.05710043013095856,\n",
       " -0.06604952365159988,\n",
       " -0.014481707476079464,\n",
       " 0.04974615201354027,\n",
       " -0.010199271142482758,\n",
       " -0.06685128062963486,\n",
       " -0.0010847010416910052,\n",
       " 0.028305668383836746,\n",
       " -0.02152019552886486,\n",
       " -0.03531772270798683,\n",
       " 0.02593115158379078,\n",
       " -0.019714996218681335,\n",
       " 0.06278971582651138,\n",
       " 0.09176412969827652,\n",
       " -0.10229230672121048,\n",
       " 0.037035297602415085,\n",
       " 0.020544376224279404,\n",
       " -0.07321780174970627,\n",
       " -0.038438647985458374,\n",
       " -0.10208166390657425,\n",
       " -0.02137269452214241,\n",
       " -0.04500987380743027,\n",
       " -0.018804127350449562,\n",
       " -0.1357780247926712,\n",
       " -0.03678477182984352,\n",
       " -0.03485994040966034,\n",
       " -0.03833599016070366,\n",
       " -0.016518980264663696,\n",
       " -0.031229278072714806,\n",
       " 0.06781847029924393,\n",
       " 0.020737281069159508,\n",
       " 0.01197200920432806,\n",
       " 0.07180444896221161,\n",
       " -0.004278035834431648,\n",
       " 0.024945449084043503,\n",
       " 0.016519028693437576,\n",
       " -0.06834036856889725,\n",
       " 0.04903170093894005,\n",
       " -0.006629312876611948,\n",
       " -0.07006290555000305,\n",
       " -0.09807820618152618,\n",
       " 0.03884943947196007,\n",
       " 0.011759653687477112,\n",
       " -0.01046568714082241,\n",
       " 0.051744960248470306,\n",
       " 0.04994411766529083,\n",
       " 0.021490372717380524,\n",
       " 0.022078217938542366,\n",
       " 0.11860286444425583,\n",
       " 0.08999451994895935,\n",
       " 0.033944021910429,\n",
       " 0.08883441239595413,\n",
       " 0.0223223976790905,\n",
       " -0.022454025223851204,\n",
       " 0.011377054266631603,\n",
       " -0.1012946218252182,\n",
       " 0.06914228200912476,\n",
       " 0.014844415709376335,\n",
       " -0.04821132495999336,\n",
       " -0.09350986778736115,\n",
       " -0.05377848073840141,\n",
       " -0.03811458498239517,\n",
       " -0.10190246999263763,\n",
       " 0.0409022755920887,\n",
       " -0.0683363825082779,\n",
       " 0.022506924346089363,\n",
       " 0.015452061779797077,\n",
       " -0.020080437883734703,\n",
       " 0.03599824383854866,\n",
       " -0.024194901809096336,\n",
       " -0.008909287862479687,\n",
       " -0.007181977387517691,\n",
       " 0.03651844337582588,\n",
       " -0.0350838266313076,\n",
       " -0.017105279490351677,\n",
       " -0.020168865099549294,\n",
       " -2.2842650708980096e-33,\n",
       " 0.09506476670503616,\n",
       " 0.006659897044301033,\n",
       " 0.021885201334953308,\n",
       " 0.09388475120067596,\n",
       " -0.03544982522726059,\n",
       " -0.003322167554870248,\n",
       " -0.0445033423602581,\n",
       " 0.042568277567625046,\n",
       " 0.029856620356440544,\n",
       " -0.013110704720020294,\n",
       " 0.007181541528552771,\n",
       " 0.02030731551349163,\n",
       " 0.0015097711002454162,\n",
       " 0.028463874012231827,\n",
       " -0.05009445548057556,\n",
       " -0.03787587583065033,\n",
       " -0.06964102387428284,\n",
       " 0.019164973869919777,\n",
       " -0.06952053308486938,\n",
       " 0.07272638380527496,\n",
       " -0.014777925796806812,\n",
       " -0.01587272807955742,\n",
       " 0.001389209763146937,\n",
       " 0.02643933705985546,\n",
       " 0.060565341264009476,\n",
       " 0.005688167642802,\n",
       " 0.011080429889261723,\n",
       " -0.08853626251220703,\n",
       " 0.02512177638709545,\n",
       " 0.021633941680192947,\n",
       " 0.03881044313311577,\n",
       " -0.04513133317232132,\n",
       " -0.04619193077087402,\n",
       " -0.04280669242143631,\n",
       " 0.06965948641300201,\n",
       " 0.09090013056993484,\n",
       " -0.013691027648746967,\n",
       " -0.08157449215650558,\n",
       " -0.06711918115615845,\n",
       " -0.05557240545749664,\n",
       " -0.04676034674048424,\n",
       " 0.03963346779346466,\n",
       " 0.07059674710035324,\n",
       " 0.005815898533910513,\n",
       " 0.0306859090924263,\n",
       " 0.027975892648100853,\n",
       " -0.0554359070956707,\n",
       " 0.005270824767649174,\n",
       " -0.0005426232819445431,\n",
       " 0.08524654060602188,\n",
       " -0.02038854919373989,\n",
       " 0.07555057108402252,\n",
       " -0.09101549535989761,\n",
       " -0.028498027473688126,\n",
       " 0.05228206515312195,\n",
       " 0.04848279803991318,\n",
       " -0.028915297240018845,\n",
       " 0.06852041929960251,\n",
       " -0.04392695426940918,\n",
       " 0.07083986699581146,\n",
       " -0.009455112740397453,\n",
       " 0.008037131279706955,\n",
       " 0.04271792247891426,\n",
       " 0.052016496658325195,\n",
       " -0.03763122484087944,\n",
       " -0.019753597676753998,\n",
       " -0.026938632130622864,\n",
       " -0.02277461253106594,\n",
       " 0.04505630210042,\n",
       " 0.0026521661784499884,\n",
       " -0.03637436777353287,\n",
       " -0.0016246801242232323,\n",
       " -0.009545079432427883,\n",
       " 0.08428993821144104,\n",
       " -0.03316548466682434,\n",
       " -0.004807275719940662,\n",
       " 0.005520856939256191,\n",
       " -0.04377122223377228,\n",
       " -0.007754727732390165,\n",
       " -0.06770297139883041,\n",
       " -0.0062479483895003796,\n",
       " 0.008232740685343742,\n",
       " 0.029952440410852432,\n",
       " 0.05353197455406189,\n",
       " 0.073793925344944,\n",
       " -0.07401296496391296,\n",
       " 0.04543817788362503,\n",
       " -0.1214526891708374,\n",
       " 0.006786947604268789,\n",
       " 0.023229053243994713,\n",
       " -0.025053473189473152,\n",
       " 0.07052105665206909,\n",
       " -0.002563514979556203,\n",
       " -0.10330292582511902,\n",
       " -0.06143468990921974,\n",
       " -4.554198879716891e-35,\n",
       " 0.09373199939727783,\n",
       " 0.016521820798516273,\n",
       " -0.0512855239212513,\n",
       " -0.0075630908831954,\n",
       " -0.05882909521460533,\n",
       " -0.010721024125814438,\n",
       " -0.038854729384183884,\n",
       " 0.06002233922481537,\n",
       " 0.005357773974537849,\n",
       " 0.08408879488706589,\n",
       " -0.011622569523751736,\n",
       " 0.010504471138119698,\n",
       " 0.13890965282917023,\n",
       " -0.01399275939911604,\n",
       " -0.07269315421581268,\n",
       " -0.047016844153404236,\n",
       " 0.10752875357866287,\n",
       " -0.003004299709573388,\n",
       " 0.010074496269226074,\n",
       " 0.0656028687953949,\n",
       " 0.0039940038695931435,\n",
       " 0.010955613106489182,\n",
       " -0.09632877260446548,\n",
       " -0.02518204227089882,\n",
       " 0.015337633900344372,\n",
       " 0.0705656036734581,\n",
       " 0.08489104360342026,\n",
       " -0.025677883997559547,\n",
       " -0.07766710966825485,\n",
       " 0.008598143234848976,\n",
       " 0.009575256146490574,\n",
       " 0.007218664977699518,\n",
       " -0.09409839659929276,\n",
       " 0.04147094115614891,\n",
       " -0.045654863119125366,\n",
       " -0.007441770751029253,\n",
       " 0.01458264235407114,\n",
       " 0.006933528929948807,\n",
       " 0.0029329515527933836,\n",
       " -0.05206773430109024,\n",
       " 0.002741103759035468,\n",
       " 0.021477961912751198,\n",
       " 0.011189451441168785,\n",
       " 0.06323127448558807,\n",
       " -0.08215910196304321,\n",
       " -0.005954020190984011,\n",
       " -0.026612360030412674,\n",
       " 0.06312452256679535,\n",
       " -0.009564986452460289,\n",
       " -0.028025835752487183,\n",
       " -0.0372774712741375,\n",
       " -0.031910646706819534,\n",
       " 0.04313572123646736,\n",
       " -0.08780165016651154,\n",
       " -0.05951865389943123,\n",
       " -0.02280803769826889,\n",
       " -0.06337311118841171,\n",
       " -0.04372796416282654,\n",
       " 0.026400744915008545,\n",
       " -0.031030554324388504,\n",
       " 0.0048546758480370045,\n",
       " 0.03686690330505371,\n",
       " 0.0022788948845118284,\n",
       " 0.05558506399393082,\n",
       " 0.022131633013486862,\n",
       " -0.07549655437469482,\n",
       " 0.009231286123394966,\n",
       " 0.07583913952112198,\n",
       " 0.02118176594376564,\n",
       " -0.08696752786636353,\n",
       " -0.009340792894363403,\n",
       " -0.07346439361572266,\n",
       " -0.04060369357466698,\n",
       " -0.016280846670269966,\n",
       " -0.014284416101872921,\n",
       " 0.053436268121004105,\n",
       " 0.03642675280570984,\n",
       " -0.06934589892625809,\n",
       " -0.026062877848744392,\n",
       " 0.044529203325510025,\n",
       " 0.03905075043439865,\n",
       " 0.0022511694114655256,\n",
       " -0.053449418395757675,\n",
       " 0.019616782665252686,\n",
       " 0.03297467157244682,\n",
       " -0.017909862101078033,\n",
       " -0.004217422101646662,\n",
       " 0.054069891571998596,\n",
       " 0.025197969749569893,\n",
       " 0.02336161397397518,\n",
       " -0.045137226581573486,\n",
       " 0.015319752506911755,\n",
       " -0.0609021857380867,\n",
       " -0.010311364196240902,\n",
       " 0.0050230566412210464,\n",
       " -2.2991843096065168e-08,\n",
       " -0.07419111579656601,\n",
       " 0.02353009581565857,\n",
       " -0.03804849833250046,\n",
       " 0.03680162504315376,\n",
       " 0.03640655055642128,\n",
       " 0.0384778156876564,\n",
       " 0.05947576463222504,\n",
       " -0.03988247737288475,\n",
       " -0.0797484889626503,\n",
       " 0.025002343580126762,\n",
       " 0.03533365949988365,\n",
       " 0.08019216358661652,\n",
       " -0.058206770569086075,\n",
       " -0.024035679176449776,\n",
       " 0.0684947520494461,\n",
       " 0.06681933254003525,\n",
       " -0.00875758845359087,\n",
       " -0.06276898086071014,\n",
       " -0.06686682999134064,\n",
       " 0.0013596906792372465,\n",
       " 0.07438530027866364,\n",
       " 0.0626690536737442,\n",
       " -0.022049101069569588,\n",
       " 0.015178726986050606,\n",
       " -0.042466048151254654,\n",
       " 0.04371555149555206,\n",
       " -0.0029683492612093687,\n",
       " 0.03230782598257065,\n",
       " -0.07244183868169785,\n",
       " -0.008453141897916794,\n",
       " 0.02477758191525936,\n",
       " 0.10374245792627335,\n",
       " -0.08862141519784927,\n",
       " 0.007805482484400272,\n",
       " -0.040527213364839554,\n",
       " 0.0046876403503119946,\n",
       " -0.08092756569385529,\n",
       " 0.0018340953392907977,\n",
       " 0.05058392882347107,\n",
       " -0.05548536032438278,\n",
       " 0.006174083799123764,\n",
       " 0.08420970290899277,\n",
       " 0.011475893668830395,\n",
       " -0.0007286479813046753,\n",
       " 0.03322434425354004,\n",
       " 0.015147870406508446,\n",
       " 0.01519983820617199,\n",
       " 0.009150347672402859,\n",
       " -0.0439164862036705,\n",
       " -0.05456814542412758,\n",
       " -0.08241591602563858,\n",
       " -0.0029428070411086082,\n",
       " 0.0594046488404274,\n",
       " -0.0029331555124372244,\n",
       " 0.022356044501066208,\n",
       " 0.05346657708287239,\n",
       " 0.024953125044703484,\n",
       " 0.051510199904441833,\n",
       " -0.01908138394355774,\n",
       " 0.02093012072145939,\n",
       " 0.1539037525653839,\n",
       " 0.039949942380189896,\n",
       " 0.027571920305490494,\n",
       " -0.027968252077698708]"
      ]
     },
     "execution_count": 72,
     "metadata": {},
     "output_type": "execute_result"
    }
   ],
   "source": [
    "#query_result"
   ]
  },
  {
   "cell_type": "code",
   "execution_count": null,
   "metadata": {},
   "outputs": [
    {
     "data": {
      "text/plain": [
       "True"
      ]
     },
     "execution_count": 1,
     "metadata": {},
     "output_type": "execute_result"
    }
   ],
   "source": [
    "from dotenv import load_dotenv\n",
    "load_dotenv()"
   ]
  },
  {
   "cell_type": "code",
   "execution_count": null,
   "metadata": {},
   "outputs": [],
   "source": [
    "import os\n",
    "PINECONE_API_KEY=os.environ.get('PINECONE_API_KEY')"
   ]
  },
  {
   "cell_type": "code",
   "execution_count": null,
   "metadata": {},
   "outputs": [
    {
     "name": "stdout",
     "output_type": "stream",
     "text": [
      "Index 'elarova' created successfully.\n"
     ]
    }
   ],
   "source": [
    "from pinecone import Pinecone, ServerlessSpec\n",
    "import os\n",
    "\n",
    "# Retrieve Pinecone API key (replace \"PINECONE_API_KEY\" with your actual API key)\n",
    "PINECONE_API_KEY = os.getenv(\"PINECONE_API_KEY\")\n",
    "if not PINECONE_API_KEY:\n",
    "    raise ValueError(\"PINECONE_API_KEY environment variable is not set.\")\n",
    "\n",
    "# Initialize Pinecone client\n",
    "pc = Pinecone(api_key=PINECONE_API_KEY)\n",
    "\n",
    "# Define index parameters\n",
    "index_name = \"elarova\"\n",
    "dimension = 384\n",
    "metric = \"cosine\"\n",
    "cloud = \"aws\"\n",
    "region = \"us-east-1\"\n",
    "\n",
    "# Check if the index already exists\n",
    "if index_name in pc.list_indexes():\n",
    "    print(f\"Index '{index_name}' already exists.\")\n",
    "else:\n",
    "    try:\n",
    "        # Create the index\n",
    "        pc.create_index(\n",
    "            name=index_name,\n",
    "            dimension=dimension,\n",
    "            metric=metric,\n",
    "            spec=ServerlessSpec(\n",
    "                cloud=cloud,\n",
    "                region=region\n",
    "            )\n",
    "        )\n",
    "        print(f\"Index '{index_name}' created successfully.\")\n",
    "    except Exception as e:\n",
    "        print(f\"Failed to create index: {e}\")"
   ]
  },
  {
   "cell_type": "code",
   "execution_count": null,
   "metadata": {},
   "outputs": [],
   "source": [
    "import os\n",
    "os.environ[\"PINECONE_API_KEY\"] = PINECONE_API_KEY"
   ]
  },
  {
   "cell_type": "code",
   "execution_count": null,
   "metadata": {},
   "outputs": [
    {
     "ename": "NameError",
     "evalue": "name 'embeddings' is not defined",
     "output_type": "error",
     "traceback": [
      "\u001b[1;31m---------------------------------------------------------------------------\u001b[0m",
      "\u001b[1;31mNameError\u001b[0m                                 Traceback (most recent call last)",
      "Cell \u001b[1;32mIn[46], line 7\u001b[0m\n\u001b[0;32m      1\u001b[0m \u001b[38;5;66;03m#embedding each chunk and upsert the embedding\u001b[39;00m\n\u001b[0;32m      2\u001b[0m \u001b[38;5;28;01mfrom\u001b[39;00m\u001b[38;5;250m \u001b[39m\u001b[38;5;21;01mlangchain_pinecone\u001b[39;00m\u001b[38;5;250m \u001b[39m\u001b[38;5;28;01mimport\u001b[39;00m PineconeVectorStore\n\u001b[0;32m      4\u001b[0m docsearch \u001b[38;5;241m=\u001b[39m PineconeVectorStore\u001b[38;5;241m.\u001b[39mfrom_documents(\n\u001b[0;32m      5\u001b[0m     documents\u001b[38;5;241m=\u001b[39mtext_chunks,\n\u001b[0;32m      6\u001b[0m     index_name\u001b[38;5;241m=\u001b[39mindex_name,\n\u001b[1;32m----> 7\u001b[0m     embeddings\u001b[38;5;241m=\u001b[39m\u001b[43membeddings\u001b[49m\n\u001b[0;32m      8\u001b[0m )\n",
      "\u001b[1;31mNameError\u001b[0m: name 'embeddings' is not defined"
     ]
    }
   ],
   "source": [
    "#embedding each chunk and upsert the embedding\n",
    "from langchain_pinecone import PineconeVectorStore\n",
    "\n",
    "docsearch = PineconeVectorStore.from_documents(\n",
    "    documents=text_chunks,\n",
    "    index_name=index_name,\n",
    "    embeddings=embeddings\n",
    ")"
   ]
  }
 ],
 "metadata": {
  "kernelspec": {
   "display_name": "elarova",
   "language": "python",
   "name": "python3"
  },
  "language_info": {
   "codemirror_mode": {
    "name": "ipython",
    "version": 3
   },
   "file_extension": ".py",
   "mimetype": "text/x-python",
   "name": "python",
   "nbconvert_exporter": "python",
   "pygments_lexer": "ipython3",
   "version": "3.10.16"
  }
 },
 "nbformat": 4,
 "nbformat_minor": 2
}
